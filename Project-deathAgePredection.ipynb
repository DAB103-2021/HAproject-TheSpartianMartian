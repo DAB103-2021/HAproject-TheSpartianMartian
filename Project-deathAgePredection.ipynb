{
 "cells": [
  {
   "cell_type": "markdown",
   "id": "d191c322",
   "metadata": {},
   "source": [
    "# Import Library"
   ]
  },
  {
   "cell_type": "code",
   "execution_count": 1,
   "id": "04bfecfb",
   "metadata": {},
   "outputs": [],
   "source": [
    "import numpy as np\n",
    "import pandas as pd\n",
    "import matplotlib.pyplot as plt\n",
    "import seaborn as sns"
   ]
  },
  {
   "cell_type": "markdown",
   "id": "711790dc",
   "metadata": {},
   "source": [
    "# Import Source File"
   ]
  },
  {
   "cell_type": "code",
   "execution_count": 2,
   "id": "b7ab8060",
   "metadata": {},
   "outputs": [],
   "source": [
    "df_file1 = pd.read_csv(\"https://raw.githubusercontent.com/DAB103-2021/HAproject-TheSpartianMartian/main/Data/AgeDataset-V1-Part1.csv\")\n",
    "df_file2 = pd.read_csv(\"https://raw.githubusercontent.com/DAB103-2021/HAproject-TheSpartianMartian/main/Data/AgeDataset-V1-Part1.csv\")\n",
    "df_file3 = pd.read_csv(\"https://raw.githubusercontent.com/DAB103-2021/HAproject-TheSpartianMartian/main/Data/AgeDataset-V1-Part1.csv\")\n",
    "df_file4 = pd.read_csv(\"https://raw.githubusercontent.com/DAB103-2021/HAproject-TheSpartianMartian/main/Data/AgeDataset-V1-Part1.csv\")\n",
    "df_file5 = pd.read_csv(\"https://raw.githubusercontent.com/DAB103-2021/HAproject-TheSpartianMartian/main/Data/AgeDataset-V1-Part1.csv\")"
   ]
  },
  {
   "cell_type": "code",
   "execution_count": 3,
   "id": "d0502482",
   "metadata": {},
   "outputs": [],
   "source": [
    "df = pd.concat([df_file1, df_file2, df_file3, df_file4,df_file5], ignore_index=True)"
   ]
  },
  {
   "cell_type": "code",
   "execution_count": 4,
   "id": "129552d4",
   "metadata": {},
   "outputs": [],
   "source": [
    "df.to_csv('AgeDataset.csv', index = False)"
   ]
  },
  {
   "cell_type": "markdown",
   "id": "cfd44748",
   "metadata": {},
   "source": [
    "# Data Cleaning"
   ]
  },
  {
   "cell_type": "code",
   "execution_count": 5,
   "id": "3f62a36c",
   "metadata": {},
   "outputs": [],
   "source": [
    "df = df.drop('Id', axis=1)"
   ]
  },
  {
   "cell_type": "code",
   "execution_count": 6,
   "id": "bb73d073",
   "metadata": {
    "scrolled": true
   },
   "outputs": [
    {
     "name": "stdout",
     "output_type": "stream",
     "text": [
      "<class 'pandas.core.frame.DataFrame'>\n",
      "RangeIndex: 1250000 entries, 0 to 1249999\n",
      "Data columns (total 9 columns):\n",
      " #   Column             Non-Null Count    Dtype  \n",
      "---  ------             --------------    -----  \n",
      " 0   Name               1250000 non-null  object \n",
      " 1   Short description  1245565 non-null  object \n",
      " 2   Gender             1191585 non-null  object \n",
      " 3   Country            1155160 non-null  object \n",
      " 4   Occupation         1177765 non-null  object \n",
      " 5   Birth year         1250000 non-null  int64  \n",
      " 6   Death year         1249995 non-null  float64\n",
      " 7   Manner of death    117760 non-null   object \n",
      " 8   Age of death       1249995 non-null  float64\n",
      "dtypes: float64(2), int64(1), object(6)\n",
      "memory usage: 85.8+ MB\n"
     ]
    }
   ],
   "source": [
    "df.info()"
   ]
  },
  {
   "cell_type": "code",
   "execution_count": 7,
   "id": "7952b184",
   "metadata": {},
   "outputs": [
    {
     "data": {
      "text/plain": [
       "Name                       0\n",
       "Short description       4435\n",
       "Gender                 58415\n",
       "Country                94840\n",
       "Occupation             72235\n",
       "Birth year                 0\n",
       "Death year                 5\n",
       "Manner of death      1132240\n",
       "Age of death               5\n",
       "dtype: int64"
      ]
     },
     "execution_count": 7,
     "metadata": {},
     "output_type": "execute_result"
    }
   ],
   "source": [
    "df.isna().sum()"
   ]
  },
  {
   "cell_type": "code",
   "execution_count": 8,
   "id": "1c349d1e",
   "metadata": {},
   "outputs": [
    {
     "data": {
      "text/plain": [
       "Name                      0\n",
       "Short description       887\n",
       "Gender                11683\n",
       "Country               18967\n",
       "Occupation            14445\n",
       "Birth year                0\n",
       "Death year                0\n",
       "Manner of death      226446\n",
       "Age of death              0\n",
       "dtype: int64"
      ]
     },
     "execution_count": 8,
     "metadata": {},
     "output_type": "execute_result"
    }
   ],
   "source": [
    "df.dropna(axis=0, subset=['Death year'], inplace=True)\n",
    "df.drop_duplicates(inplace=True)\n",
    "df = df.drop(df.loc[(df['Age of death'] >123)].index)\n",
    "\n",
    "df.isna().sum()"
   ]
  },
  {
   "cell_type": "code",
   "execution_count": 9,
   "id": "30cf7a1f",
   "metadata": {},
   "outputs": [
    {
     "name": "stdout",
     "output_type": "stream",
     "text": [
      "Short description 0.0\n",
      "Gender 5.0\n",
      "Country 8.0\n",
      "Occupation 6.0\n",
      "Manner of death 91.0\n"
     ]
    }
   ],
   "source": [
    "columns=[col for col in df.columns if df[col].isnull().sum()>=1]\n",
    "for col in columns:\n",
    "    print( col, np.round(df[col].isnull().sum()*100/len(df[col])))"
   ]
  },
  {
   "cell_type": "code",
   "execution_count": 10,
   "id": "3bafddea",
   "metadata": {},
   "outputs": [],
   "source": [
    "df['Death year'] = pd.to_numeric(df['Death year'], errors='coerce').fillna(0).astype(int)\n",
    "df['Age of death'] = pd.to_numeric(df['Age of death'], errors='coerce').fillna(0).astype(int)"
   ]
  },
  {
   "cell_type": "code",
   "execution_count": 11,
   "id": "b318ec83",
   "metadata": {},
   "outputs": [
    {
     "data": {
      "text/html": [
       "<div>\n",
       "<style scoped>\n",
       "    .dataframe tbody tr th:only-of-type {\n",
       "        vertical-align: middle;\n",
       "    }\n",
       "\n",
       "    .dataframe tbody tr th {\n",
       "        vertical-align: top;\n",
       "    }\n",
       "\n",
       "    .dataframe thead th {\n",
       "        text-align: right;\n",
       "    }\n",
       "</style>\n",
       "<table border=\"1\" class=\"dataframe\">\n",
       "  <thead>\n",
       "    <tr style=\"text-align: right;\">\n",
       "      <th></th>\n",
       "      <th>Name</th>\n",
       "      <th>Short description</th>\n",
       "      <th>Gender</th>\n",
       "      <th>Country</th>\n",
       "      <th>Occupation</th>\n",
       "      <th>Birth year</th>\n",
       "      <th>Death year</th>\n",
       "      <th>Manner of death</th>\n",
       "      <th>Age of death</th>\n",
       "    </tr>\n",
       "  </thead>\n",
       "  <tbody>\n",
       "    <tr>\n",
       "      <th>count</th>\n",
       "      <td>249998</td>\n",
       "      <td>249111</td>\n",
       "      <td>238315</td>\n",
       "      <td>231031</td>\n",
       "      <td>235553</td>\n",
       "      <td>249998.000000</td>\n",
       "      <td>249998.000000</td>\n",
       "      <td>23552</td>\n",
       "      <td>249998.000000</td>\n",
       "    </tr>\n",
       "    <tr>\n",
       "      <th>unique</th>\n",
       "      <td>241840</td>\n",
       "      <td>136556</td>\n",
       "      <td>13</td>\n",
       "      <td>3828</td>\n",
       "      <td>3283</td>\n",
       "      <td>NaN</td>\n",
       "      <td>NaN</td>\n",
       "      <td>129</td>\n",
       "      <td>NaN</td>\n",
       "    </tr>\n",
       "    <tr>\n",
       "      <th>top</th>\n",
       "      <td>Karl Müller</td>\n",
       "      <td>German theologian</td>\n",
       "      <td>Male</td>\n",
       "      <td>Germany</td>\n",
       "      <td>Artist</td>\n",
       "      <td>NaN</td>\n",
       "      <td>NaN</td>\n",
       "      <td>natural causes</td>\n",
       "      <td>NaN</td>\n",
       "    </tr>\n",
       "    <tr>\n",
       "      <th>freq</th>\n",
       "      <td>15</td>\n",
       "      <td>1885</td>\n",
       "      <td>217215</td>\n",
       "      <td>67699</td>\n",
       "      <td>73559</td>\n",
       "      <td>NaN</td>\n",
       "      <td>NaN</td>\n",
       "      <td>15717</td>\n",
       "      <td>NaN</td>\n",
       "    </tr>\n",
       "    <tr>\n",
       "      <th>mean</th>\n",
       "      <td>NaN</td>\n",
       "      <td>NaN</td>\n",
       "      <td>NaN</td>\n",
       "      <td>NaN</td>\n",
       "      <td>NaN</td>\n",
       "      <td>1816.032848</td>\n",
       "      <td>1885.082529</td>\n",
       "      <td>NaN</td>\n",
       "      <td>69.049680</td>\n",
       "    </tr>\n",
       "    <tr>\n",
       "      <th>std</th>\n",
       "      <td>NaN</td>\n",
       "      <td>NaN</td>\n",
       "      <td>NaN</td>\n",
       "      <td>NaN</td>\n",
       "      <td>NaN</td>\n",
       "      <td>219.719647</td>\n",
       "      <td>224.133185</td>\n",
       "      <td>NaN</td>\n",
       "      <td>16.469096</td>\n",
       "    </tr>\n",
       "    <tr>\n",
       "      <th>min</th>\n",
       "      <td>NaN</td>\n",
       "      <td>NaN</td>\n",
       "      <td>NaN</td>\n",
       "      <td>NaN</td>\n",
       "      <td>NaN</td>\n",
       "      <td>-2700.000000</td>\n",
       "      <td>-2659.000000</td>\n",
       "      <td>NaN</td>\n",
       "      <td>0.000000</td>\n",
       "    </tr>\n",
       "    <tr>\n",
       "      <th>25%</th>\n",
       "      <td>NaN</td>\n",
       "      <td>NaN</td>\n",
       "      <td>NaN</td>\n",
       "      <td>NaN</td>\n",
       "      <td>NaN</td>\n",
       "      <td>1812.000000</td>\n",
       "      <td>1879.000000</td>\n",
       "      <td>NaN</td>\n",
       "      <td>60.000000</td>\n",
       "    </tr>\n",
       "    <tr>\n",
       "      <th>50%</th>\n",
       "      <td>NaN</td>\n",
       "      <td>NaN</td>\n",
       "      <td>NaN</td>\n",
       "      <td>NaN</td>\n",
       "      <td>NaN</td>\n",
       "      <td>1884.000000</td>\n",
       "      <td>1952.000000</td>\n",
       "      <td>NaN</td>\n",
       "      <td>72.000000</td>\n",
       "    </tr>\n",
       "    <tr>\n",
       "      <th>75%</th>\n",
       "      <td>NaN</td>\n",
       "      <td>NaN</td>\n",
       "      <td>NaN</td>\n",
       "      <td>NaN</td>\n",
       "      <td>NaN</td>\n",
       "      <td>1917.000000</td>\n",
       "      <td>1994.000000</td>\n",
       "      <td>NaN</td>\n",
       "      <td>81.000000</td>\n",
       "    </tr>\n",
       "    <tr>\n",
       "      <th>max</th>\n",
       "      <td>NaN</td>\n",
       "      <td>NaN</td>\n",
       "      <td>NaN</td>\n",
       "      <td>NaN</td>\n",
       "      <td>NaN</td>\n",
       "      <td>2002.000000</td>\n",
       "      <td>2021.000000</td>\n",
       "      <td>NaN</td>\n",
       "      <td>122.000000</td>\n",
       "    </tr>\n",
       "  </tbody>\n",
       "</table>\n",
       "</div>"
      ],
      "text/plain": [
       "               Name  Short description  Gender  Country Occupation  \\\n",
       "count        249998             249111  238315   231031     235553   \n",
       "unique       241840             136556      13     3828       3283   \n",
       "top     Karl Müller  German theologian    Male  Germany     Artist   \n",
       "freq             15               1885  217215    67699      73559   \n",
       "mean            NaN                NaN     NaN      NaN        NaN   \n",
       "std             NaN                NaN     NaN      NaN        NaN   \n",
       "min             NaN                NaN     NaN      NaN        NaN   \n",
       "25%             NaN                NaN     NaN      NaN        NaN   \n",
       "50%             NaN                NaN     NaN      NaN        NaN   \n",
       "75%             NaN                NaN     NaN      NaN        NaN   \n",
       "max             NaN                NaN     NaN      NaN        NaN   \n",
       "\n",
       "           Birth year     Death year Manner of death   Age of death  \n",
       "count   249998.000000  249998.000000           23552  249998.000000  \n",
       "unique            NaN            NaN             129            NaN  \n",
       "top               NaN            NaN  natural causes            NaN  \n",
       "freq              NaN            NaN           15717            NaN  \n",
       "mean      1816.032848    1885.082529             NaN      69.049680  \n",
       "std        219.719647     224.133185             NaN      16.469096  \n",
       "min      -2700.000000   -2659.000000             NaN       0.000000  \n",
       "25%       1812.000000    1879.000000             NaN      60.000000  \n",
       "50%       1884.000000    1952.000000             NaN      72.000000  \n",
       "75%       1917.000000    1994.000000             NaN      81.000000  \n",
       "max       2002.000000    2021.000000             NaN     122.000000  "
      ]
     },
     "execution_count": 11,
     "metadata": {},
     "output_type": "execute_result"
    }
   ],
   "source": [
    "df.describe(include='all')"
   ]
  },
  {
   "cell_type": "code",
   "execution_count": 12,
   "id": "4af33929",
   "metadata": {
    "scrolled": true
   },
   "outputs": [
    {
     "data": {
      "text/plain": [
       "array(['Male', 'Female', nan, 'Transgender Female', 'Intersex',\n",
       "       'Transgender Person; Intersex; Transgender Male', 'Non-Binary',\n",
       "       'Eunuch; Male', 'Transgender Male', 'Eunuch', 'Intersex; Male',\n",
       "       'Transgender Female; Female', 'Transgender Female; Male',\n",
       "       'Female; Male'], dtype=object)"
      ]
     },
     "execution_count": 12,
     "metadata": {},
     "output_type": "execute_result"
    }
   ],
   "source": [
    "df['Gender'].unique()"
   ]
  },
  {
   "cell_type": "code",
   "execution_count": 13,
   "id": "eaac8bf2",
   "metadata": {},
   "outputs": [
    {
     "data": {
      "text/html": [
       "<div>\n",
       "<style scoped>\n",
       "    .dataframe tbody tr th:only-of-type {\n",
       "        vertical-align: middle;\n",
       "    }\n",
       "\n",
       "    .dataframe tbody tr th {\n",
       "        vertical-align: top;\n",
       "    }\n",
       "\n",
       "    .dataframe thead th {\n",
       "        text-align: right;\n",
       "    }\n",
       "</style>\n",
       "<table border=\"1\" class=\"dataframe\">\n",
       "  <thead>\n",
       "    <tr style=\"text-align: right;\">\n",
       "      <th></th>\n",
       "      <th>Gender</th>\n",
       "      <th>count</th>\n",
       "    </tr>\n",
       "  </thead>\n",
       "  <tbody>\n",
       "    <tr>\n",
       "      <th>6</th>\n",
       "      <td>Male</td>\n",
       "      <td>217215</td>\n",
       "    </tr>\n",
       "    <tr>\n",
       "      <th>2</th>\n",
       "      <td>Female</td>\n",
       "      <td>21053</td>\n",
       "    </tr>\n",
       "    <tr>\n",
       "      <th>8</th>\n",
       "      <td>Transgender Female</td>\n",
       "      <td>15</td>\n",
       "    </tr>\n",
       "    <tr>\n",
       "      <th>1</th>\n",
       "      <td>Eunuch; Male</td>\n",
       "      <td>12</td>\n",
       "    </tr>\n",
       "    <tr>\n",
       "      <th>11</th>\n",
       "      <td>Transgender Male</td>\n",
       "      <td>8</td>\n",
       "    </tr>\n",
       "    <tr>\n",
       "      <th>4</th>\n",
       "      <td>Intersex</td>\n",
       "      <td>4</td>\n",
       "    </tr>\n",
       "    <tr>\n",
       "      <th>0</th>\n",
       "      <td>Eunuch</td>\n",
       "      <td>2</td>\n",
       "    </tr>\n",
       "    <tr>\n",
       "      <th>3</th>\n",
       "      <td>Female; Male</td>\n",
       "      <td>1</td>\n",
       "    </tr>\n",
       "    <tr>\n",
       "      <th>5</th>\n",
       "      <td>Intersex; Male</td>\n",
       "      <td>1</td>\n",
       "    </tr>\n",
       "    <tr>\n",
       "      <th>7</th>\n",
       "      <td>Non-Binary</td>\n",
       "      <td>1</td>\n",
       "    </tr>\n",
       "    <tr>\n",
       "      <th>9</th>\n",
       "      <td>Transgender Female; Female</td>\n",
       "      <td>1</td>\n",
       "    </tr>\n",
       "    <tr>\n",
       "      <th>10</th>\n",
       "      <td>Transgender Female; Male</td>\n",
       "      <td>1</td>\n",
       "    </tr>\n",
       "    <tr>\n",
       "      <th>12</th>\n",
       "      <td>Transgender Person; Intersex; Transgender Male</td>\n",
       "      <td>1</td>\n",
       "    </tr>\n",
       "  </tbody>\n",
       "</table>\n",
       "</div>"
      ],
      "text/plain": [
       "                                            Gender   count\n",
       "6                                             Male  217215\n",
       "2                                           Female   21053\n",
       "8                               Transgender Female      15\n",
       "1                                     Eunuch; Male      12\n",
       "11                                Transgender Male       8\n",
       "4                                         Intersex       4\n",
       "0                                           Eunuch       2\n",
       "3                                     Female; Male       1\n",
       "5                                   Intersex; Male       1\n",
       "7                                       Non-Binary       1\n",
       "9                       Transgender Female; Female       1\n",
       "10                        Transgender Female; Male       1\n",
       "12  Transgender Person; Intersex; Transgender Male       1"
      ]
     },
     "execution_count": 13,
     "metadata": {},
     "output_type": "execute_result"
    }
   ],
   "source": [
    "df_top_genders = df.groupby(['Gender'])['Gender'].count().reset_index(name='count').sort_values(['count'], ascending=False).head(20)\n",
    "df_top_genders"
   ]
  },
  {
   "cell_type": "code",
   "execution_count": 14,
   "id": "ddc66024",
   "metadata": {},
   "outputs": [],
   "source": [
    "Genders=['Male', 'Female']\n",
    "df = df[df.Gender.isin(Genders)]"
   ]
  },
  {
   "cell_type": "code",
   "execution_count": 15,
   "id": "47b5f559",
   "metadata": {},
   "outputs": [
    {
     "data": {
      "text/plain": [
       "array(['Male', 'Female'], dtype=object)"
      ]
     },
     "execution_count": 15,
     "metadata": {},
     "output_type": "execute_result"
    }
   ],
   "source": [
    "df['Gender'].unique()"
   ]
  },
  {
   "cell_type": "code",
   "execution_count": 16,
   "id": "cd76c620",
   "metadata": {
    "scrolled": true
   },
   "outputs": [
    {
     "data": {
      "text/html": [
       "<div>\n",
       "<style scoped>\n",
       "    .dataframe tbody tr th:only-of-type {\n",
       "        vertical-align: middle;\n",
       "    }\n",
       "\n",
       "    .dataframe tbody tr th {\n",
       "        vertical-align: top;\n",
       "    }\n",
       "\n",
       "    .dataframe thead th {\n",
       "        text-align: right;\n",
       "    }\n",
       "</style>\n",
       "<table border=\"1\" class=\"dataframe\">\n",
       "  <thead>\n",
       "    <tr style=\"text-align: right;\">\n",
       "      <th></th>\n",
       "      <th>Country</th>\n",
       "      <th>count</th>\n",
       "    </tr>\n",
       "  </thead>\n",
       "  <tbody>\n",
       "    <tr>\n",
       "      <th>1088</th>\n",
       "      <td>Germany</td>\n",
       "      <td>63153</td>\n",
       "    </tr>\n",
       "    <tr>\n",
       "      <th>3410</th>\n",
       "      <td>United States of America</td>\n",
       "      <td>32322</td>\n",
       "    </tr>\n",
       "    <tr>\n",
       "      <th>856</th>\n",
       "      <td>France</td>\n",
       "      <td>13750</td>\n",
       "    </tr>\n",
       "    <tr>\n",
       "      <th>80</th>\n",
       "      <td>Austria</td>\n",
       "      <td>9274</td>\n",
       "    </tr>\n",
       "    <tr>\n",
       "      <th>3304</th>\n",
       "      <td>United Kingdom</td>\n",
       "      <td>5721</td>\n",
       "    </tr>\n",
       "  </tbody>\n",
       "</table>\n",
       "</div>"
      ],
      "text/plain": [
       "                       Country  count\n",
       "1088                   Germany  63153\n",
       "3410  United States of America  32322\n",
       "856                     France  13750\n",
       "80                     Austria   9274\n",
       "3304            United Kingdom   5721"
      ]
     },
     "execution_count": 16,
     "metadata": {},
     "output_type": "execute_result"
    }
   ],
   "source": [
    "df_top_countries = df.groupby(['Country'])['Gender'].count().reset_index(name='count').sort_values(['count'], ascending=False).head(5)\n",
    "df_top_countries"
   ]
  },
  {
   "cell_type": "code",
   "execution_count": 17,
   "id": "d6f080ea",
   "metadata": {
    "scrolled": true
   },
   "outputs": [],
   "source": [
    "df['Country'] = df['Country'].str.split(';').str[0]"
   ]
  },
  {
   "cell_type": "code",
   "execution_count": 18,
   "id": "3ea80b11",
   "metadata": {},
   "outputs": [],
   "source": [
    "df = df[df.Country.isin(df_top_countries['Country'])]"
   ]
  },
  {
   "cell_type": "code",
   "execution_count": 19,
   "id": "72de54e7",
   "metadata": {},
   "outputs": [
    {
     "data": {
      "text/plain": [
       "0         natural causes\n",
       "1         natural causes\n",
       "2               homicide\n",
       "6                    NaN\n",
       "7         natural causes\n",
       "               ...      \n",
       "249988               NaN\n",
       "249994               NaN\n",
       "249997               NaN\n",
       "249998               NaN\n",
       "249999               NaN\n",
       "Name: Manner of death, Length: 133614, dtype: object"
      ]
     },
     "execution_count": 19,
     "metadata": {},
     "output_type": "execute_result"
    }
   ],
   "source": [
    "df['Manner of death']"
   ]
  },
  {
   "cell_type": "code",
   "execution_count": 20,
   "id": "1262d5d2",
   "metadata": {},
   "outputs": [],
   "source": [
    "df['Manner of death'] = df['Manner of death'].str.split(';').str[0]"
   ]
  },
  {
   "cell_type": "code",
   "execution_count": 21,
   "id": "4dab7ce2",
   "metadata": {},
   "outputs": [
    {
     "data": {
      "text/plain": [
       "<AxesSubplot:>"
      ]
     },
     "execution_count": 21,
     "metadata": {},
     "output_type": "execute_result"
    },
    {
     "data": {
      "image/png": "[encoded data removed]",
      "text/plain": [
       "<Figure size 360x360 with 1 Axes>"
      ]
     },
     "metadata": {
      "needs_background": "light"
     },
     "output_type": "display_data"
    }
   ],
   "source": [
    "df_Years = pd.DataFrame(data = df, columns = ['Birth year','Death year'])\n",
    "df_Years.boxplot(showfliers=False,grid=True,figsize=(5, 5))"
   ]
  },
  {
   "cell_type": "code",
   "execution_count": 22,
   "id": "b5501b6f",
   "metadata": {},
   "outputs": [],
   "source": [
    "df = df[df['Birth year'] >= 1800]"
   ]
  },
  {
   "cell_type": "code",
   "execution_count": 23,
   "id": "1bf03f08",
   "metadata": {},
   "outputs": [],
   "source": [
    "df.to_csv('AgeDataset-cleaned.csv', index = False)"
   ]
  },
  {
   "cell_type": "code",
   "execution_count": 24,
   "id": "aa58d405",
   "metadata": {
    "scrolled": true
   },
   "outputs": [
    {
     "data": {
      "image/png": "[encoded data removed]",
      "text/plain": [
       "<Figure size 432x288 with 1 Axes>"
      ]
     },
     "metadata": {
      "needs_background": "light"
     },
     "output_type": "display_data"
    }
   ],
   "source": [
    "from sklearn.linear_model import LinearRegression\n",
    "X = df.iloc[:, 6].values.reshape(-1, 1)  \n",
    "Y = df.iloc[:, 8].values.reshape(-1, 1)\n",
    "linear_regressor = LinearRegression()\n",
    "linear_regressor.fit(X, Y)\n",
    "Y_pred = linear_regressor.predict(X)\n",
    "\n",
    "plt.scatter(X, Y,c='LightBlue')\n",
    "plt.plot(X, Y_pred, color='red')\n",
    "plt.title(\"Correlation between year of death and age of death\")\n",
    "plt.ylabel(\"Age\")\n",
    "plt.xlabel(\"Year of Death\")\n",
    "plt.show()"
   ]
  },
  {
   "cell_type": "markdown",
   "id": "bff3221d",
   "metadata": {},
   "source": [
    "There is a positive correlation between Age of death and year of death. This shows that life expectancy has increased over time for subject having notability."
   ]
  },
  {
   "cell_type": "code",
   "execution_count": 25,
   "id": "12273586",
   "metadata": {
    "scrolled": true
   },
   "outputs": [],
   "source": [
    "df_list_of_top_occupation = df['Occupation'].value_counts().head(20).reset_index()\n",
    "df2 = df_list_of_top_occupation['index']\n",
    "df3 =df[df['Occupation'].isin(df2)]"
   ]
  },
  {
   "cell_type": "code",
   "execution_count": 26,
   "id": "0edb6b29",
   "metadata": {
    "scrolled": true
   },
   "outputs": [
    {
     "data": {
      "text/plain": [
       "[Text(0, 0, 'Artist'),\n",
       " Text(1, 0, 'Politician'),\n",
       " Text(2, 0, 'Researcher'),\n",
       " Text(3, 0, 'Architect'),\n",
       " Text(4, 0, 'Teacher'),\n",
       " Text(5, 0, 'Athlete'),\n",
       " Text(6, 0, 'Military personnel'),\n",
       " Text(7, 0, 'Engineer'),\n",
       " Text(8, 0, 'Businessperson'),\n",
       " Text(9, 0, 'Cinematographer'),\n",
       " Text(10, 0, 'Entrepreneur'),\n",
       " Text(11, 0, 'Judge'),\n",
       " Text(12, 0, 'Journalist'),\n",
       " Text(13, 0, 'Publisher'),\n",
       " Text(14, 0, 'Physician'),\n",
       " Text(15, 0, 'Religious figure'),\n",
       " Text(16, 0, 'Philosopher'),\n",
       " Text(17, 0, 'Lawyer'),\n",
       " Text(18, 0, 'Astronomer'),\n",
       " Text(19, 0, 'Jurist')]"
      ]
     },
     "execution_count": 26,
     "metadata": {},
     "output_type": "execute_result"
    },
    {
     "data": {
      "image/png": "[encoded data removed]",
      "text/plain": [
       "<Figure size 842.4x595.44 with 1 Axes>"
      ]
     },
     "metadata": {},
     "output_type": "display_data"
    }
   ],
   "source": [
    "sns.set(rc={'figure.figsize':(11.7,8.27)})\n",
    "sns_plot = sns.boxplot(x=\"Occupation\", y=\"Age of death\", data=df3)\n",
    "sns_plot.set(title='Death age in top 20 occuring occupation')\n",
    "sns_plot.set_xticklabels(sns_plot.get_xticklabels(), rotation=30)"
   ]
  },
  {
   "cell_type": "code",
   "execution_count": 27,
   "id": "e4d70a64",
   "metadata": {},
   "outputs": [],
   "source": [
    "#ML\n",
    "import sklearn.preprocessing as preprocessing\n",
    "import sklearn.model_selection as model_selection\n",
    "from sklearn import metrics\n",
    "from sklearn.model_selection import cross_val_score\n",
    "from sklearn import linear_model\n",
    "from sklearn.neighbors import KNeighborsRegressor\n",
    "from sklearn.tree import DecisionTreeRegressor\n",
    "from sklearn.ensemble import RandomForestRegressor\n",
    "from sklearn.model_selection import RandomizedSearchCV\n",
    "from sklearn.ensemble import VotingRegressor"
   ]
  },
  {
   "cell_type": "code",
   "execution_count": 28,
   "id": "fbbf0751",
   "metadata": {},
   "outputs": [
    {
     "data": {
      "text/plain": [
       "Name                     0\n",
       "Short description        3\n",
       "Gender                   0\n",
       "Country                  0\n",
       "Occupation            4955\n",
       "Birth year               0\n",
       "Death year               0\n",
       "Manner of death      98776\n",
       "Age of death             0\n",
       "dtype: int64"
      ]
     },
     "execution_count": 28,
     "metadata": {},
     "output_type": "execute_result"
    }
   ],
   "source": [
    "df.isna().sum()"
   ]
  },
  {
   "cell_type": "code",
   "execution_count": 29,
   "id": "65b9815a",
   "metadata": {
    "scrolled": true
   },
   "outputs": [
    {
     "name": "stdout",
     "output_type": "stream",
     "text": [
      "Short description 0.0\n",
      "Occupation 4.0\n",
      "Manner of death 89.0\n"
     ]
    }
   ],
   "source": [
    "columns=[col for col in df.columns if df[col].isnull().sum()>=1]\n",
    "for col in columns:\n",
    "    print( col, np.round(df[col].isnull().sum()*100/len(df[col])))"
   ]
  },
  {
   "cell_type": "code",
   "execution_count": 30,
   "id": "b09204c0",
   "metadata": {},
   "outputs": [],
   "source": [
    "df_orignal = df\n",
    "df=df.drop(['Name','Short description','Manner of death'],axis=1)"
   ]
  },
  {
   "cell_type": "code",
   "execution_count": 31,
   "id": "6d89be87",
   "metadata": {},
   "outputs": [],
   "source": [
    "encoder = preprocessing.LabelEncoder()\n",
    "df['Gender'] = encoder.fit_transform(df['Gender'])\n",
    "df['Country'] = encoder.fit_transform(df['Country'])\n",
    "df['Occupation'] = encoder.fit_transform(df['Occupation'])\n",
    "#df['Manner of death'] = encoder.fit_transform(df['Manner of death'])"
   ]
  },
  {
   "cell_type": "code",
   "execution_count": 32,
   "id": "a1cab036",
   "metadata": {},
   "outputs": [
    {
     "name": "stderr",
     "output_type": "stream",
     "text": [
      "C:\\Users\\sach\\AppData\\Local\\Temp\\ipykernel_12316\\4141125781.py:2: FutureWarning: this method is deprecated in favour of `Styler.format(precision=..)`\n",
      "  corr.style.background_gradient(cmap='crest').set_precision(2)\n"
     ]
    },
    {
     "data": {
      "text/html": [
       "<style type=\"text/css\">\n",
       "#T_7af66_row0_col0, #T_7af66_row1_col1, #T_7af66_row2_col2, #T_7af66_row3_col3, #T_7af66_row4_col4, #T_7af66_row5_col5 {\n",
       "  background-color: #2c3172;\n",
       "  color: #f1f1f1;\n",
       "}\n",
       "#T_7af66_row0_col1 {\n",
       "  background-color: #9cc891;\n",
       "  color: #000000;\n",
       "}\n",
       "#T_7af66_row0_col2 {\n",
       "  background-color: #5ba790;\n",
       "  color: #f1f1f1;\n",
       "}\n",
       "#T_7af66_row0_col3 {\n",
       "  background-color: #8fc291;\n",
       "  color: #000000;\n",
       "}\n",
       "#T_7af66_row0_col4 {\n",
       "  background-color: #96c691;\n",
       "  color: #000000;\n",
       "}\n",
       "#T_7af66_row0_col5, #T_7af66_row2_col1, #T_7af66_row2_col3, #T_7af66_row2_col4, #T_7af66_row3_col0, #T_7af66_row3_col2, #T_7af66_row4_col0 {\n",
       "  background-color: #a5cd90;\n",
       "  color: #000000;\n",
       "}\n",
       "#T_7af66_row1_col0, #T_7af66_row5_col1 {\n",
       "  background-color: #92c491;\n",
       "  color: #000000;\n",
       "}\n",
       "#T_7af66_row1_col2 {\n",
       "  background-color: #87be91;\n",
       "  color: #000000;\n",
       "}\n",
       "#T_7af66_row1_col3 {\n",
       "  background-color: #62ab90;\n",
       "  color: #f1f1f1;\n",
       "}\n",
       "#T_7af66_row1_col4 {\n",
       "  background-color: #66ae90;\n",
       "  color: #f1f1f1;\n",
       "}\n",
       "#T_7af66_row1_col5, #T_7af66_row3_col5 {\n",
       "  background-color: #9ac791;\n",
       "  color: #000000;\n",
       "}\n",
       "#T_7af66_row2_col0 {\n",
       "  background-color: #69b090;\n",
       "  color: #f1f1f1;\n",
       "}\n",
       "#T_7af66_row2_col5, #T_7af66_row5_col0 {\n",
       "  background-color: #93c491;\n",
       "  color: #000000;\n",
       "}\n",
       "#T_7af66_row3_col1 {\n",
       "  background-color: #79b891;\n",
       "  color: #f1f1f1;\n",
       "}\n",
       "#T_7af66_row3_col4, #T_7af66_row4_col3 {\n",
       "  background-color: #2a3c77;\n",
       "  color: #f1f1f1;\n",
       "}\n",
       "#T_7af66_row4_col1 {\n",
       "  background-color: #7bb991;\n",
       "  color: #000000;\n",
       "}\n",
       "#T_7af66_row4_col2 {\n",
       "  background-color: #9fca91;\n",
       "  color: #000000;\n",
       "}\n",
       "#T_7af66_row4_col5 {\n",
       "  background-color: #45958f;\n",
       "  color: #f1f1f1;\n",
       "}\n",
       "#T_7af66_row5_col2 {\n",
       "  background-color: #70b390;\n",
       "  color: #f1f1f1;\n",
       "}\n",
       "#T_7af66_row5_col3 {\n",
       "  background-color: #75b690;\n",
       "  color: #f1f1f1;\n",
       "}\n",
       "#T_7af66_row5_col4 {\n",
       "  background-color: #398a8e;\n",
       "  color: #f1f1f1;\n",
       "}\n",
       "</style>\n",
       "<table id=\"T_7af66_\">\n",
       "  <thead>\n",
       "    <tr>\n",
       "      <th class=\"blank level0\" >&nbsp;</th>\n",
       "      <th class=\"col_heading level0 col0\" >Gender</th>\n",
       "      <th class=\"col_heading level0 col1\" >Country</th>\n",
       "      <th class=\"col_heading level0 col2\" >Occupation</th>\n",
       "      <th class=\"col_heading level0 col3\" >Birth year</th>\n",
       "      <th class=\"col_heading level0 col4\" >Death year</th>\n",
       "      <th class=\"col_heading level0 col5\" >Age of death</th>\n",
       "    </tr>\n",
       "  </thead>\n",
       "  <tbody>\n",
       "    <tr>\n",
       "      <th id=\"T_7af66_level0_row0\" class=\"row_heading level0 row0\" >Gender</th>\n",
       "      <td id=\"T_7af66_row0_col0\" class=\"data row0 col0\" >1.00</td>\n",
       "      <td id=\"T_7af66_row0_col1\" class=\"data row0 col1\" >-0.03</td>\n",
       "      <td id=\"T_7af66_row0_col2\" class=\"data row0 col2\" >0.14</td>\n",
       "      <td id=\"T_7af66_row0_col3\" class=\"data row0 col3\" >-0.10</td>\n",
       "      <td id=\"T_7af66_row0_col4\" class=\"data row0 col4\" >-0.10</td>\n",
       "      <td id=\"T_7af66_row0_col5\" class=\"data row0 col5\" >-0.03</td>\n",
       "    </tr>\n",
       "    <tr>\n",
       "      <th id=\"T_7af66_level0_row1\" class=\"row_heading level0 row1\" >Country</th>\n",
       "      <td id=\"T_7af66_row1_col0\" class=\"data row1 col0\" >-0.03</td>\n",
       "      <td id=\"T_7af66_row1_col1\" class=\"data row1 col1\" >1.00</td>\n",
       "      <td id=\"T_7af66_row1_col2\" class=\"data row1 col2\" >-0.06</td>\n",
       "      <td id=\"T_7af66_row1_col3\" class=\"data row1 col3\" >0.10</td>\n",
       "      <td id=\"T_7af66_row1_col4\" class=\"data row1 col4\" >0.10</td>\n",
       "      <td id=\"T_7af66_row1_col5\" class=\"data row1 col5\" >0.01</td>\n",
       "    </tr>\n",
       "    <tr>\n",
       "      <th id=\"T_7af66_level0_row2\" class=\"row_heading level0 row2\" >Occupation</th>\n",
       "      <td id=\"T_7af66_row2_col0\" class=\"data row2 col0\" >0.14</td>\n",
       "      <td id=\"T_7af66_row2_col1\" class=\"data row2 col1\" >-0.06</td>\n",
       "      <td id=\"T_7af66_row2_col2\" class=\"data row2 col2\" >1.00</td>\n",
       "      <td id=\"T_7af66_row2_col3\" class=\"data row2 col3\" >-0.19</td>\n",
       "      <td id=\"T_7af66_row2_col4\" class=\"data row2 col4\" >-0.16</td>\n",
       "      <td id=\"T_7af66_row2_col5\" class=\"data row2 col5\" >0.03</td>\n",
       "    </tr>\n",
       "    <tr>\n",
       "      <th id=\"T_7af66_level0_row3\" class=\"row_heading level0 row3\" >Birth year</th>\n",
       "      <td id=\"T_7af66_row3_col0\" class=\"data row3 col0\" >-0.10</td>\n",
       "      <td id=\"T_7af66_row3_col1\" class=\"data row3 col1\" >0.10</td>\n",
       "      <td id=\"T_7af66_row3_col2\" class=\"data row3 col2\" >-0.19</td>\n",
       "      <td id=\"T_7af66_row3_col3\" class=\"data row3 col3\" >1.00</td>\n",
       "      <td id=\"T_7af66_row3_col4\" class=\"data row3 col4\" >0.93</td>\n",
       "      <td id=\"T_7af66_row3_col5\" class=\"data row3 col5\" >0.01</td>\n",
       "    </tr>\n",
       "    <tr>\n",
       "      <th id=\"T_7af66_level0_row4\" class=\"row_heading level0 row4\" >Death year</th>\n",
       "      <td id=\"T_7af66_row4_col0\" class=\"data row4 col0\" >-0.10</td>\n",
       "      <td id=\"T_7af66_row4_col1\" class=\"data row4 col1\" >0.10</td>\n",
       "      <td id=\"T_7af66_row4_col2\" class=\"data row4 col2\" >-0.16</td>\n",
       "      <td id=\"T_7af66_row4_col3\" class=\"data row4 col3\" >0.93</td>\n",
       "      <td id=\"T_7af66_row4_col4\" class=\"data row4 col4\" >1.00</td>\n",
       "      <td id=\"T_7af66_row4_col5\" class=\"data row4 col5\" >0.38</td>\n",
       "    </tr>\n",
       "    <tr>\n",
       "      <th id=\"T_7af66_level0_row5\" class=\"row_heading level0 row5\" >Age of death</th>\n",
       "      <td id=\"T_7af66_row5_col0\" class=\"data row5 col0\" >-0.03</td>\n",
       "      <td id=\"T_7af66_row5_col1\" class=\"data row5 col1\" >0.01</td>\n",
       "      <td id=\"T_7af66_row5_col2\" class=\"data row5 col2\" >0.03</td>\n",
       "      <td id=\"T_7af66_row5_col3\" class=\"data row5 col3\" >0.01</td>\n",
       "      <td id=\"T_7af66_row5_col4\" class=\"data row5 col4\" >0.38</td>\n",
       "      <td id=\"T_7af66_row5_col5\" class=\"data row5 col5\" >1.00</td>\n",
       "    </tr>\n",
       "  </tbody>\n",
       "</table>\n"
      ],
      "text/plain": [
       "<pandas.io.formats.style.Styler at 0x22a2eccc790>"
      ]
     },
     "execution_count": 32,
     "metadata": {},
     "output_type": "execute_result"
    }
   ],
   "source": [
    "corr=df.corr()\n",
    "corr.style.background_gradient(cmap='crest').set_precision(2)"
   ]
  },
  {
   "cell_type": "code",
   "execution_count": 33,
   "id": "9a8bdcd2",
   "metadata": {},
   "outputs": [],
   "source": [
    "X = df[df.columns[:5]] \n",
    "ss = preprocessing.StandardScaler()\n",
    "X = pd.DataFrame(ss.fit_transform(X),columns = X.columns)"
   ]
  },
  {
   "cell_type": "code",
   "execution_count": 34,
   "id": "18581fd6",
   "metadata": {},
   "outputs": [
    {
     "data": {
      "text/html": [
       "<div>\n",
       "<style scoped>\n",
       "    .dataframe tbody tr th:only-of-type {\n",
       "        vertical-align: middle;\n",
       "    }\n",
       "\n",
       "    .dataframe tbody tr th {\n",
       "        vertical-align: top;\n",
       "    }\n",
       "\n",
       "    .dataframe thead th {\n",
       "        text-align: right;\n",
       "    }\n",
       "</style>\n",
       "<table border=\"1\" class=\"dataframe\">\n",
       "  <thead>\n",
       "    <tr style=\"text-align: right;\">\n",
       "      <th></th>\n",
       "      <th>Gender</th>\n",
       "      <th>Country</th>\n",
       "      <th>Occupation</th>\n",
       "      <th>Birth year</th>\n",
       "      <th>Death year</th>\n",
       "    </tr>\n",
       "  </thead>\n",
       "  <tbody>\n",
       "    <tr>\n",
       "      <th>0</th>\n",
       "      <td>0.327224</td>\n",
       "      <td>0.482170</td>\n",
       "      <td>-1.100308</td>\n",
       "      <td>1.567885</td>\n",
       "      <td>0.888599</td>\n",
       "    </tr>\n",
       "    <tr>\n",
       "      <th>1</th>\n",
       "      <td>0.327224</td>\n",
       "      <td>1.305613</td>\n",
       "      <td>0.790490</td>\n",
       "      <td>-2.190429</td>\n",
       "      <td>-2.418701</td>\n",
       "    </tr>\n",
       "    <tr>\n",
       "      <th>2</th>\n",
       "      <td>0.327224</td>\n",
       "      <td>-1.164716</td>\n",
       "      <td>-1.100308</td>\n",
       "      <td>-0.114158</td>\n",
       "      <td>0.280639</td>\n",
       "    </tr>\n",
       "    <tr>\n",
       "      <th>3</th>\n",
       "      <td>0.327224</td>\n",
       "      <td>-1.164716</td>\n",
       "      <td>-1.100308</td>\n",
       "      <td>-1.375690</td>\n",
       "      <td>-0.935280</td>\n",
       "    </tr>\n",
       "    <tr>\n",
       "      <th>4</th>\n",
       "      <td>0.327224</td>\n",
       "      <td>1.305613</td>\n",
       "      <td>-1.100308</td>\n",
       "      <td>1.121092</td>\n",
       "      <td>0.304958</td>\n",
       "    </tr>\n",
       "    <tr>\n",
       "      <th>...</th>\n",
       "      <td>...</td>\n",
       "      <td>...</td>\n",
       "      <td>...</td>\n",
       "      <td>...</td>\n",
       "      <td>...</td>\n",
       "    </tr>\n",
       "    <tr>\n",
       "      <th>110697</th>\n",
       "      <td>0.327224</td>\n",
       "      <td>-1.164716</td>\n",
       "      <td>0.790490</td>\n",
       "      <td>0.700581</td>\n",
       "      <td>0.523823</td>\n",
       "    </tr>\n",
       "    <tr>\n",
       "      <th>110698</th>\n",
       "      <td>0.327224</td>\n",
       "      <td>-1.164716</td>\n",
       "      <td>1.553896</td>\n",
       "      <td>-0.955179</td>\n",
       "      <td>-0.789370</td>\n",
       "    </tr>\n",
       "    <tr>\n",
       "      <th>110699</th>\n",
       "      <td>0.327224</td>\n",
       "      <td>-1.164716</td>\n",
       "      <td>-1.045549</td>\n",
       "      <td>0.726863</td>\n",
       "      <td>1.229056</td>\n",
       "    </tr>\n",
       "    <tr>\n",
       "      <th>110700</th>\n",
       "      <td>0.327224</td>\n",
       "      <td>0.482170</td>\n",
       "      <td>0.331481</td>\n",
       "      <td>-1.007743</td>\n",
       "      <td>-0.473231</td>\n",
       "    </tr>\n",
       "    <tr>\n",
       "      <th>110701</th>\n",
       "      <td>0.327224</td>\n",
       "      <td>0.482170</td>\n",
       "      <td>-1.045549</td>\n",
       "      <td>0.753145</td>\n",
       "      <td>0.645415</td>\n",
       "    </tr>\n",
       "  </tbody>\n",
       "</table>\n",
       "<p>110702 rows × 5 columns</p>\n",
       "</div>"
      ],
      "text/plain": [
       "          Gender   Country  Occupation  Birth year  Death year\n",
       "0       0.327224  0.482170   -1.100308    1.567885    0.888599\n",
       "1       0.327224  1.305613    0.790490   -2.190429   -2.418701\n",
       "2       0.327224 -1.164716   -1.100308   -0.114158    0.280639\n",
       "3       0.327224 -1.164716   -1.100308   -1.375690   -0.935280\n",
       "4       0.327224  1.305613   -1.100308    1.121092    0.304958\n",
       "...          ...       ...         ...         ...         ...\n",
       "110697  0.327224 -1.164716    0.790490    0.700581    0.523823\n",
       "110698  0.327224 -1.164716    1.553896   -0.955179   -0.789370\n",
       "110699  0.327224 -1.164716   -1.045549    0.726863    1.229056\n",
       "110700  0.327224  0.482170    0.331481   -1.007743   -0.473231\n",
       "110701  0.327224  0.482170   -1.045549    0.753145    0.645415\n",
       "\n",
       "[110702 rows x 5 columns]"
      ]
     },
     "execution_count": 34,
     "metadata": {},
     "output_type": "execute_result"
    }
   ],
   "source": [
    "X"
   ]
  },
  {
   "cell_type": "code",
   "execution_count": 35,
   "id": "4ceb5a53",
   "metadata": {},
   "outputs": [],
   "source": [
    "y = df['Age of death']"
   ]
  },
  {
   "cell_type": "code",
   "execution_count": 36,
   "id": "abbe46dc",
   "metadata": {},
   "outputs": [],
   "source": [
    "X_train, X_test, y_train, y_test = model_selection.train_test_split(X, y, train_size=0.75, test_size=0.25, random_state=1)"
   ]
  },
  {
   "cell_type": "code",
   "execution_count": 37,
   "id": "ac36aa59",
   "metadata": {
    "scrolled": true
   },
   "outputs": [
    {
     "name": "stdout",
     "output_type": "stream",
     "text": [
      "X_train (83026, 5)\n",
      "y_train (83026,)\n",
      "X_test (27676, 5)\n",
      "y_test (27676,)\n"
     ]
    }
   ],
   "source": [
    "print('X_train', X_train.shape)\n",
    "print('y_train', y_train.shape)\n",
    "print('X_test', X_test.shape)\n",
    "print('y_test', y_test.shape)"
   ]
  },
  {
   "cell_type": "markdown",
   "id": "47cc8401",
   "metadata": {},
   "source": [
    "### KNeighborsClassifier"
   ]
  },
  {
   "cell_type": "code",
   "execution_count": 38,
   "id": "a56d3092",
   "metadata": {},
   "outputs": [
    {
     "name": "stdout",
     "output_type": "stream",
     "text": [
      "acuracy 0.26557305969070677\n",
      "recall 0.26557305969070677\n",
      "precision 0.26557305969070677\n",
      "f1 score 0.26557305969070677\n"
     ]
    },
    {
     "name": "stderr",
     "output_type": "stream",
     "text": [
      "C:\\Users\\sach\\anaconda3\\envs\\DAB200\\lib\\site-packages\\sklearn\\metrics\\_classification.py:1370: UserWarning: Note that pos_label (set to 'positive') is ignored when average != 'binary' (got 'micro'). You may use labels=[pos_label] to specify a single positive class.\n",
      "  warnings.warn(\n",
      "C:\\Users\\sach\\anaconda3\\envs\\DAB200\\lib\\site-packages\\sklearn\\metrics\\_classification.py:1370: UserWarning: Note that pos_label (set to 'positive') is ignored when average != 'binary' (got 'micro'). You may use labels=[pos_label] to specify a single positive class.\n",
      "  warnings.warn(\n",
      "C:\\Users\\sach\\anaconda3\\envs\\DAB200\\lib\\site-packages\\sklearn\\metrics\\_classification.py:1370: UserWarning: Note that pos_label (set to 'positive') is ignored when average != 'binary' (got 'micro'). You may use labels=[pos_label] to specify a single positive class.\n",
      "  warnings.warn(\n"
     ]
    }
   ],
   "source": [
    "# Splitting the dataset into the Training set and Test set\n",
    "from sklearn.model_selection import train_test_split\n",
    "X_train, X_test, y_train, y_test = train_test_split(X, y, test_size = 0.25, random_state = 0)\n",
    "\n",
    "\n",
    "# Fitting classifier to the Training set\n",
    "from sklearn.neighbors import KNeighborsClassifier\n",
    "KNclassifier = KNeighborsClassifier(n_neighbors = 5, metric = 'minkowski', p = 2)\n",
    "KNclassifier.fit(X_train, y_train)\n",
    "\n",
    "# Predicting the Test set results\n",
    "y_pred = KNclassifier.predict(X_test)\n",
    "\n",
    "# Making the Confusion Matrix\n",
    "from sklearn.metrics import confusion_matrix, accuracy_score, f1_score, recall_score, precision_score\n",
    "cm = confusion_matrix(y_test, y_pred)\n",
    "\n",
    "# Making the Confusion Matrix\n",
    "cm = confusion_matrix(y_test, y_pred)\n",
    "\n",
    "acc_knc = accuracy_score(y_test, y_pred)\n",
    "\n",
    "# Evaluate the results\n",
    "# Evaluate the results\n",
    "#print(\"confusion matrix\", confusion_matrix(y_test, y_pred))\n",
    "print(\"acuracy\", acc_knc)\n",
    "print(\"recall\", recall_score(y_test, y_pred, pos_label='positive',average='micro'))\n",
    "print(\"precision\", precision_score(y_test, y_pred, pos_label='positive',average='micro'))\n",
    "print(\"f1 score\", f1_score(y_test, y_pred, pos_label='positive',average='micro'))"
   ]
  },
  {
   "cell_type": "markdown",
   "id": "3ce99053",
   "metadata": {},
   "source": [
    "# GaussianNB"
   ]
  },
  {
   "cell_type": "code",
   "execution_count": 39,
   "id": "47e308f4",
   "metadata": {
    "scrolled": true
   },
   "outputs": [
    {
     "name": "stdout",
     "output_type": "stream",
     "text": [
      "acuracy 0.006503830033241798\n",
      "recall 0.006503830033241798\n",
      "precision 0.006503830033241798\n",
      "f1 score 0.006503830033241798\n"
     ]
    },
    {
     "name": "stderr",
     "output_type": "stream",
     "text": [
      "C:\\Users\\sach\\anaconda3\\envs\\DAB200\\lib\\site-packages\\sklearn\\metrics\\_classification.py:1370: UserWarning: Note that pos_label (set to 'positive') is ignored when average != 'binary' (got 'micro'). You may use labels=[pos_label] to specify a single positive class.\n",
      "  warnings.warn(\n",
      "C:\\Users\\sach\\anaconda3\\envs\\DAB200\\lib\\site-packages\\sklearn\\metrics\\_classification.py:1370: UserWarning: Note that pos_label (set to 'positive') is ignored when average != 'binary' (got 'micro'). You may use labels=[pos_label] to specify a single positive class.\n",
      "  warnings.warn(\n",
      "C:\\Users\\sach\\anaconda3\\envs\\DAB200\\lib\\site-packages\\sklearn\\metrics\\_classification.py:1370: UserWarning: Note that pos_label (set to 'positive') is ignored when average != 'binary' (got 'micro'). You may use labels=[pos_label] to specify a single positive class.\n",
      "  warnings.warn(\n"
     ]
    }
   ],
   "source": [
    "# Splitting the dataset into the Training set and Test set\n",
    "from sklearn.model_selection import train_test_split\n",
    "X_train, X_test, y_train, y_test = train_test_split(X, y, test_size = 0.25, random_state = 0)\n",
    "\n",
    "\n",
    "# Fitting classifier to the Training set\n",
    "from sklearn.naive_bayes import GaussianNB\n",
    "gnb = GaussianNB()\n",
    "\n",
    "gnb.fit(X_train, y_train)\n",
    "# Predicting the Test set results \n",
    "y_pred = gnb.fit(X_train, y_train).predict(X_test)\n",
    "\n",
    "# Predicting the Test set results\n",
    "y_pred = gnb.predict(X_test)\n",
    "\n",
    "# Making the Confusion Matrix\n",
    "from sklearn.metrics import confusion_matrix, accuracy_score, f1_score, recall_score, precision_score\n",
    "cm = confusion_matrix(y_test, y_pred)\n",
    "\n",
    "# Making the Confusion Matrix\n",
    "cm = confusion_matrix(y_test, y_pred)\n",
    "\n",
    "acc_gnb = accuracy_score(y_test, y_pred)\n",
    "\n",
    "# Evaluate the results\n",
    "# Evaluate the results\n",
    "#print(\"confusion matrix\", confusion_matrix(y_test, y_pred))\n",
    "print(\"acuracy\", acc_gnb)\n",
    "print(\"recall\", recall_score(y_test, y_pred, pos_label='positive',average='micro'))\n",
    "print(\"precision\", precision_score(y_test, y_pred, pos_label='positive',average='micro'))\n",
    "print(\"f1 score\", f1_score(y_test, y_pred, pos_label='positive',average='micro'))"
   ]
  },
  {
   "cell_type": "markdown",
   "id": "d625335e",
   "metadata": {},
   "source": [
    "### DecisionTreeClassifier"
   ]
  },
  {
   "cell_type": "code",
   "execution_count": 40,
   "id": "9ab7b2a4",
   "metadata": {
    "scrolled": true
   },
   "outputs": [
    {
     "name": "stdout",
     "output_type": "stream",
     "text": [
      "acuracy 0.9533892180951005\n",
      "recall 0.9533892180951005\n",
      "precision 0.9533892180951005\n",
      "f1 score 0.9533892180951005\n"
     ]
    },
    {
     "name": "stderr",
     "output_type": "stream",
     "text": [
      "C:\\Users\\sach\\anaconda3\\envs\\DAB200\\lib\\site-packages\\sklearn\\metrics\\_classification.py:1370: UserWarning: Note that pos_label (set to 'positive') is ignored when average != 'binary' (got 'micro'). You may use labels=[pos_label] to specify a single positive class.\n",
      "  warnings.warn(\n",
      "C:\\Users\\sach\\anaconda3\\envs\\DAB200\\lib\\site-packages\\sklearn\\metrics\\_classification.py:1370: UserWarning: Note that pos_label (set to 'positive') is ignored when average != 'binary' (got 'micro'). You may use labels=[pos_label] to specify a single positive class.\n",
      "  warnings.warn(\n",
      "C:\\Users\\sach\\anaconda3\\envs\\DAB200\\lib\\site-packages\\sklearn\\metrics\\_classification.py:1370: UserWarning: Note that pos_label (set to 'positive') is ignored when average != 'binary' (got 'micro'). You may use labels=[pos_label] to specify a single positive class.\n",
      "  warnings.warn(\n"
     ]
    }
   ],
   "source": [
    "# Splitting the dataset into the Training set and Test set\n",
    "from sklearn.model_selection import train_test_split\n",
    "X_train, X_test, y_train, y_test = train_test_split(X, y, test_size = 0.25, random_state = 0)\n",
    "\n",
    "from sklearn.tree import DecisionTreeClassifier\n",
    "dtcclassifier = DecisionTreeClassifier(criterion = 'entropy', random_state = 0)\n",
    "dtcclassifier.fit(X_train, y_train)\n",
    "\n",
    "# Predicting the Test set results\n",
    "y_pred = dtcclassifier.predict(X_test)\n",
    "\n",
    "# Making the Confusion Matrix\n",
    "from sklearn.metrics import confusion_matrix, accuracy_score, f1_score, recall_score, precision_score\n",
    "cm = confusion_matrix(y_test, y_pred)\n",
    "\n",
    "# Making the Confusion Matrix\n",
    "cm = confusion_matrix(y_test, y_pred)\n",
    "\n",
    "acc_dcc = accuracy_score(y_test, y_pred)\n",
    "\n",
    "# Evaluate the results\n",
    "# Evaluate the results\n",
    "#print(\"confusion matrix\", confusion_matrix(y_test, y_pred))\n",
    "print(\"acuracy\", acc_dcc)\n",
    "print(\"recall\", recall_score(y_test, y_pred, pos_label='positive',average='micro'))\n",
    "print(\"precision\", precision_score(y_test, y_pred, pos_label='positive',average='micro'))\n",
    "print(\"f1 score\", f1_score(y_test, y_pred, pos_label='positive',average='micro'))"
   ]
  },
  {
   "cell_type": "markdown",
   "id": "f1080f7e",
   "metadata": {},
   "source": [
    "### RandomForestClassifier"
   ]
  },
  {
   "cell_type": "code",
   "execution_count": 41,
   "id": "c5717468",
   "metadata": {},
   "outputs": [
    {
     "name": "stdout",
     "output_type": "stream",
     "text": [
      "acuracy 0.6235727706315941\n",
      "recall 0.6235727706315941\n",
      "precision 0.6235727706315941\n",
      "f1 score 0.6235727706315941\n"
     ]
    },
    {
     "name": "stderr",
     "output_type": "stream",
     "text": [
      "C:\\Users\\sach\\anaconda3\\envs\\DAB200\\lib\\site-packages\\sklearn\\metrics\\_classification.py:1370: UserWarning: Note that pos_label (set to 'positive') is ignored when average != 'binary' (got 'micro'). You may use labels=[pos_label] to specify a single positive class.\n",
      "  warnings.warn(\n",
      "C:\\Users\\sach\\anaconda3\\envs\\DAB200\\lib\\site-packages\\sklearn\\metrics\\_classification.py:1370: UserWarning: Note that pos_label (set to 'positive') is ignored when average != 'binary' (got 'micro'). You may use labels=[pos_label] to specify a single positive class.\n",
      "  warnings.warn(\n",
      "C:\\Users\\sach\\anaconda3\\envs\\DAB200\\lib\\site-packages\\sklearn\\metrics\\_classification.py:1370: UserWarning: Note that pos_label (set to 'positive') is ignored when average != 'binary' (got 'micro'). You may use labels=[pos_label] to specify a single positive class.\n",
      "  warnings.warn(\n"
     ]
    }
   ],
   "source": [
    "# Splitting the dataset into the Training set and Test set\n",
    "from sklearn.model_selection import train_test_split\n",
    "X_train, X_test, y_train, y_test = train_test_split(X, y, test_size = 0.25, random_state = 0)\n",
    "\n",
    "\n",
    "# Fitting classifier to the Training set\n",
    "from sklearn.ensemble import RandomForestClassifier\n",
    "rfclassifier = RandomForestClassifier(n_estimators=10, criterion = 'entropy')\n",
    "rfclassifier.fit(X_train, y_train)\n",
    "\n",
    "# Predicting the Test set results\n",
    "y_pred = rfclassifier.predict(X_test)\n",
    "\n",
    "# Making the Confusion Matrix\n",
    "from sklearn.metrics import confusion_matrix, accuracy_score, f1_score, recall_score, precision_score\n",
    "cm = confusion_matrix(y_test, y_pred)\n",
    "\n",
    "# Making the Confusion Matrix\n",
    "cm = confusion_matrix(y_test, y_pred)\n",
    "\n",
    "acc_rfc = accuracy_score(y_test, y_pred)\n",
    "\n",
    "# Evaluate the results\n",
    "# Evaluate the results\n",
    "#print(\"confusion matrix\", confusion_matrix(y_test, y_pred))\n",
    "print(\"acuracy\", acc_rfc)\n",
    "print(\"recall\", recall_score(y_test, y_pred, pos_label='positive',average='micro'))\n",
    "print(\"precision\", precision_score(y_test, y_pred, pos_label='positive',average='micro'))\n",
    "print(\"f1 score\", f1_score(y_test, y_pred, pos_label='positive',average='micro'))"
   ]
  },
  {
   "cell_type": "markdown",
   "id": "0274a087",
   "metadata": {},
   "source": [
    "# SVC"
   ]
  },
  {
   "cell_type": "code",
   "execution_count": 42,
   "id": "f171ee9e",
   "metadata": {
    "scrolled": true
   },
   "outputs": [
    {
     "name": "stdout",
     "output_type": "stream",
     "text": [
      "acuracy 0.32638387050151757\n",
      "recall 0.32638387050151757\n",
      "precision 0.32638387050151757\n",
      "f1 score 0.32638387050151757\n"
     ]
    },
    {
     "name": "stderr",
     "output_type": "stream",
     "text": [
      "C:\\Users\\sach\\anaconda3\\envs\\DAB200\\lib\\site-packages\\sklearn\\metrics\\_classification.py:1370: UserWarning: Note that pos_label (set to 'positive') is ignored when average != 'binary' (got 'micro'). You may use labels=[pos_label] to specify a single positive class.\n",
      "  warnings.warn(\n",
      "C:\\Users\\sach\\anaconda3\\envs\\DAB200\\lib\\site-packages\\sklearn\\metrics\\_classification.py:1370: UserWarning: Note that pos_label (set to 'positive') is ignored when average != 'binary' (got 'micro'). You may use labels=[pos_label] to specify a single positive class.\n",
      "  warnings.warn(\n",
      "C:\\Users\\sach\\anaconda3\\envs\\DAB200\\lib\\site-packages\\sklearn\\metrics\\_classification.py:1370: UserWarning: Note that pos_label (set to 'positive') is ignored when average != 'binary' (got 'micro'). You may use labels=[pos_label] to specify a single positive class.\n",
      "  warnings.warn(\n"
     ]
    }
   ],
   "source": [
    "# Splitting the dataset into the Training set and Test set\n",
    "from sklearn.model_selection import train_test_split\n",
    "X_train, X_test, y_train, y_test = train_test_split(X, y, test_size = 0.25, random_state = 0)\n",
    "\n",
    "# Fitting classifier to the Training set\n",
    "from sklearn.svm import SVC\n",
    "svcclassifier = SVC(kernel = 'linear', random_state = 0)\n",
    "svcclassifier.fit(X_train, y_train)\n",
    "# Predicting the Test set results \n",
    "y_pred = svcclassifier.fit(X_train, y_train).predict(X_test)\n",
    "\n",
    "# Predicting the Test set results\n",
    "y_pred = svcclassifier.predict(X_test)\n",
    "\n",
    "# Making the Confusion Matrix\n",
    "from sklearn.metrics import confusion_matrix, accuracy_score, f1_score, recall_score, precision_score\n",
    "cm = confusion_matrix(y_test, y_pred)\n",
    "\n",
    "# Making the Confusion Matrix\n",
    "cm = confusion_matrix(y_test, y_pred)\n",
    "\n",
    "acc_svc = accuracy_score(y_test, y_pred)\n",
    "\n",
    "# Evaluate the results\n",
    "# Evaluate the results\n",
    "#print(\"confusion matrix\", confusion_matrix(y_test, y_pred))\n",
    "print(\"acuracy\", acc_svc)\n",
    "print(\"recall\", recall_score(y_test, y_pred, pos_label='positive',average='micro'))\n",
    "print(\"precision\", precision_score(y_test, y_pred, pos_label='positive',average='micro'))\n",
    "print(\"f1 score\", f1_score(y_test, y_pred, pos_label='positive',average='micro'))"
   ]
  },
  {
   "cell_type": "code",
   "execution_count": 43,
   "id": "1f5d5e6b",
   "metadata": {},
   "outputs": [
    {
     "data": {
      "text/html": [
       "<div>\n",
       "<style scoped>\n",
       "    .dataframe tbody tr th:only-of-type {\n",
       "        vertical-align: middle;\n",
       "    }\n",
       "\n",
       "    .dataframe tbody tr th {\n",
       "        vertical-align: top;\n",
       "    }\n",
       "\n",
       "    .dataframe thead th {\n",
       "        text-align: right;\n",
       "    }\n",
       "</style>\n",
       "<table border=\"1\" class=\"dataframe\">\n",
       "  <thead>\n",
       "    <tr style=\"text-align: right;\">\n",
       "      <th></th>\n",
       "      <th>Gender</th>\n",
       "      <th>Country</th>\n",
       "      <th>Occupation</th>\n",
       "      <th>Birth year</th>\n",
       "      <th>Death year</th>\n",
       "      <th>Age of death</th>\n",
       "    </tr>\n",
       "  </thead>\n",
       "  <tbody>\n",
       "    <tr>\n",
       "      <th>1</th>\n",
       "      <td>1</td>\n",
       "      <td>3</td>\n",
       "      <td>84</td>\n",
       "      <td>1952</td>\n",
       "      <td>2001</td>\n",
       "      <td>49</td>\n",
       "    </tr>\n",
       "    <tr>\n",
       "      <th>2</th>\n",
       "      <td>1</td>\n",
       "      <td>4</td>\n",
       "      <td>1258</td>\n",
       "      <td>1809</td>\n",
       "      <td>1865</td>\n",
       "      <td>56</td>\n",
       "    </tr>\n",
       "    <tr>\n",
       "      <th>6</th>\n",
       "      <td>1</td>\n",
       "      <td>1</td>\n",
       "      <td>84</td>\n",
       "      <td>1888</td>\n",
       "      <td>1976</td>\n",
       "      <td>88</td>\n",
       "    </tr>\n",
       "    <tr>\n",
       "      <th>7</th>\n",
       "      <td>1</td>\n",
       "      <td>1</td>\n",
       "      <td>84</td>\n",
       "      <td>1840</td>\n",
       "      <td>1926</td>\n",
       "      <td>86</td>\n",
       "    </tr>\n",
       "    <tr>\n",
       "      <th>10</th>\n",
       "      <td>1</td>\n",
       "      <td>4</td>\n",
       "      <td>84</td>\n",
       "      <td>1935</td>\n",
       "      <td>1977</td>\n",
       "      <td>42</td>\n",
       "    </tr>\n",
       "    <tr>\n",
       "      <th>...</th>\n",
       "      <td>...</td>\n",
       "      <td>...</td>\n",
       "      <td>...</td>\n",
       "      <td>...</td>\n",
       "      <td>...</td>\n",
       "      <td>...</td>\n",
       "    </tr>\n",
       "    <tr>\n",
       "      <th>249988</th>\n",
       "      <td>1</td>\n",
       "      <td>1</td>\n",
       "      <td>1258</td>\n",
       "      <td>1919</td>\n",
       "      <td>1986</td>\n",
       "      <td>67</td>\n",
       "    </tr>\n",
       "    <tr>\n",
       "      <th>249994</th>\n",
       "      <td>1</td>\n",
       "      <td>1</td>\n",
       "      <td>1732</td>\n",
       "      <td>1856</td>\n",
       "      <td>1932</td>\n",
       "      <td>76</td>\n",
       "    </tr>\n",
       "    <tr>\n",
       "      <th>249997</th>\n",
       "      <td>1</td>\n",
       "      <td>1</td>\n",
       "      <td>118</td>\n",
       "      <td>1920</td>\n",
       "      <td>2015</td>\n",
       "      <td>95</td>\n",
       "    </tr>\n",
       "    <tr>\n",
       "      <th>249998</th>\n",
       "      <td>1</td>\n",
       "      <td>3</td>\n",
       "      <td>973</td>\n",
       "      <td>1854</td>\n",
       "      <td>1945</td>\n",
       "      <td>91</td>\n",
       "    </tr>\n",
       "    <tr>\n",
       "      <th>249999</th>\n",
       "      <td>1</td>\n",
       "      <td>3</td>\n",
       "      <td>118</td>\n",
       "      <td>1921</td>\n",
       "      <td>1991</td>\n",
       "      <td>70</td>\n",
       "    </tr>\n",
       "  </tbody>\n",
       "</table>\n",
       "<p>110702 rows × 6 columns</p>\n",
       "</div>"
      ],
      "text/plain": [
       "        Gender  Country  Occupation  Birth year  Death year  Age of death\n",
       "1            1        3          84        1952        2001            49\n",
       "2            1        4        1258        1809        1865            56\n",
       "6            1        1          84        1888        1976            88\n",
       "7            1        1          84        1840        1926            86\n",
       "10           1        4          84        1935        1977            42\n",
       "...        ...      ...         ...         ...         ...           ...\n",
       "249988       1        1        1258        1919        1986            67\n",
       "249994       1        1        1732        1856        1932            76\n",
       "249997       1        1         118        1920        2015            95\n",
       "249998       1        3         973        1854        1945            91\n",
       "249999       1        3         118        1921        1991            70\n",
       "\n",
       "[110702 rows x 6 columns]"
      ]
     },
     "execution_count": 43,
     "metadata": {},
     "output_type": "execute_result"
    }
   ],
   "source": [
    "df"
   ]
  },
  {
   "cell_type": "code",
   "execution_count": 44,
   "id": "9086552e",
   "metadata": {},
   "outputs": [],
   "source": [
    "df['pred_KNclassifier']=KNclassifier.predict(X)\n"
   ]
  },
  {
   "cell_type": "code",
   "execution_count": 45,
   "id": "0120a780",
   "metadata": {},
   "outputs": [],
   "source": [
    "df['pred_gnb']=gnb.predict(X)\n"
   ]
  },
  {
   "cell_type": "code",
   "execution_count": 46,
   "id": "069e16ed",
   "metadata": {},
   "outputs": [],
   "source": [
    "df['pred_dtcclassifier']=dtcclassifier.predict(X)\n"
   ]
  },
  {
   "cell_type": "code",
   "execution_count": 47,
   "id": "93f5019a",
   "metadata": {},
   "outputs": [],
   "source": [
    "df['pred_rfclassifier']=rfclassifier.predict(X)"
   ]
  },
  {
   "cell_type": "code",
   "execution_count": 48,
   "id": "148342cc",
   "metadata": {},
   "outputs": [],
   "source": [
    "df['pred_svcclassifier']=svcclassifier.predict(X)"
   ]
  },
  {
   "cell_type": "code",
   "execution_count": 49,
   "id": "c2f35d9d",
   "metadata": {},
   "outputs": [],
   "source": [
    "df['Name']= df_orignal['Name']\n",
    "df=df.round(0)\n",
    "df=df.drop(['Gender','Country','Occupation','Birth year'], axis=1)\n",
    "\n",
    "df['KNclassifie_gap']=df['Age of death']-df['pred_KNclassifier']\n",
    "df['gnb_gap']=df['Age of death']-df['pred_gnb']\n",
    "df['dtcclassifier_gap']=df['Age of death']-df['pred_dtcclassifier']\n",
    "df['rfclassifier_gap']=df['Age of death']-df['pred_rfclassifier']\n",
    "#df['svcclassifie_gap']=df['Age of death']-df['pred_svcclassifier']"
   ]
  },
  {
   "cell_type": "code",
   "execution_count": 50,
   "id": "50ad342b",
   "metadata": {},
   "outputs": [
    {
     "data": {
      "text/html": [
       "<div>\n",
       "<style scoped>\n",
       "    .dataframe tbody tr th:only-of-type {\n",
       "        vertical-align: middle;\n",
       "    }\n",
       "\n",
       "    .dataframe tbody tr th {\n",
       "        vertical-align: top;\n",
       "    }\n",
       "\n",
       "    .dataframe thead th {\n",
       "        text-align: right;\n",
       "    }\n",
       "</style>\n",
       "<table border=\"1\" class=\"dataframe\">\n",
       "  <thead>\n",
       "    <tr style=\"text-align: right;\">\n",
       "      <th></th>\n",
       "      <th>Death year</th>\n",
       "      <th>Age of death</th>\n",
       "      <th>pred_KNclassifier</th>\n",
       "      <th>pred_gnb</th>\n",
       "      <th>pred_dtcclassifier</th>\n",
       "      <th>pred_rfclassifier</th>\n",
       "      <th>pred_svcclassifier</th>\n",
       "      <th>Name</th>\n",
       "      <th>KNclassifie_gap</th>\n",
       "      <th>gnb_gap</th>\n",
       "      <th>dtcclassifier_gap</th>\n",
       "      <th>rfclassifier_gap</th>\n",
       "    </tr>\n",
       "  </thead>\n",
       "  <tbody>\n",
       "    <tr>\n",
       "      <th>1</th>\n",
       "      <td>2001</td>\n",
       "      <td>49</td>\n",
       "      <td>46</td>\n",
       "      <td>14</td>\n",
       "      <td>49</td>\n",
       "      <td>49</td>\n",
       "      <td>49</td>\n",
       "      <td>Douglas Adams</td>\n",
       "      <td>3</td>\n",
       "      <td>35</td>\n",
       "      <td>0</td>\n",
       "      <td>0</td>\n",
       "    </tr>\n",
       "    <tr>\n",
       "      <th>2</th>\n",
       "      <td>1865</td>\n",
       "      <td>56</td>\n",
       "      <td>56</td>\n",
       "      <td>14</td>\n",
       "      <td>56</td>\n",
       "      <td>56</td>\n",
       "      <td>57</td>\n",
       "      <td>Abraham Lincoln</td>\n",
       "      <td>0</td>\n",
       "      <td>42</td>\n",
       "      <td>0</td>\n",
       "      <td>0</td>\n",
       "    </tr>\n",
       "    <tr>\n",
       "      <th>6</th>\n",
       "      <td>1976</td>\n",
       "      <td>88</td>\n",
       "      <td>89</td>\n",
       "      <td>85</td>\n",
       "      <td>88</td>\n",
       "      <td>88</td>\n",
       "      <td>87</td>\n",
       "      <td>Paul Morand</td>\n",
       "      <td>-1</td>\n",
       "      <td>3</td>\n",
       "      <td>0</td>\n",
       "      <td>0</td>\n",
       "    </tr>\n",
       "    <tr>\n",
       "      <th>7</th>\n",
       "      <td>1926</td>\n",
       "      <td>86</td>\n",
       "      <td>83</td>\n",
       "      <td>70</td>\n",
       "      <td>86</td>\n",
       "      <td>83</td>\n",
       "      <td>85</td>\n",
       "      <td>Claude Monet</td>\n",
       "      <td>3</td>\n",
       "      <td>16</td>\n",
       "      <td>0</td>\n",
       "      <td>3</td>\n",
       "    </tr>\n",
       "    <tr>\n",
       "      <th>10</th>\n",
       "      <td>1977</td>\n",
       "      <td>42</td>\n",
       "      <td>42</td>\n",
       "      <td>14</td>\n",
       "      <td>42</td>\n",
       "      <td>42</td>\n",
       "      <td>43</td>\n",
       "      <td>Elvis Presley</td>\n",
       "      <td>0</td>\n",
       "      <td>28</td>\n",
       "      <td>0</td>\n",
       "      <td>0</td>\n",
       "    </tr>\n",
       "    <tr>\n",
       "      <th>...</th>\n",
       "      <td>...</td>\n",
       "      <td>...</td>\n",
       "      <td>...</td>\n",
       "      <td>...</td>\n",
       "      <td>...</td>\n",
       "      <td>...</td>\n",
       "      <td>...</td>\n",
       "      <td>...</td>\n",
       "      <td>...</td>\n",
       "      <td>...</td>\n",
       "      <td>...</td>\n",
       "      <td>...</td>\n",
       "    </tr>\n",
       "    <tr>\n",
       "      <th>249988</th>\n",
       "      <td>1986</td>\n",
       "      <td>67</td>\n",
       "      <td>62</td>\n",
       "      <td>85</td>\n",
       "      <td>67</td>\n",
       "      <td>67</td>\n",
       "      <td>68</td>\n",
       "      <td>Jean Tourane</td>\n",
       "      <td>5</td>\n",
       "      <td>-18</td>\n",
       "      <td>0</td>\n",
       "      <td>0</td>\n",
       "    </tr>\n",
       "    <tr>\n",
       "      <th>249994</th>\n",
       "      <td>1932</td>\n",
       "      <td>76</td>\n",
       "      <td>73</td>\n",
       "      <td>100</td>\n",
       "      <td>76</td>\n",
       "      <td>76</td>\n",
       "      <td>77</td>\n",
       "      <td>Joachim, 5th Prince Murat</td>\n",
       "      <td>3</td>\n",
       "      <td>-24</td>\n",
       "      <td>0</td>\n",
       "      <td>0</td>\n",
       "    </tr>\n",
       "    <tr>\n",
       "      <th>249997</th>\n",
       "      <td>2015</td>\n",
       "      <td>95</td>\n",
       "      <td>94</td>\n",
       "      <td>85</td>\n",
       "      <td>95</td>\n",
       "      <td>95</td>\n",
       "      <td>94</td>\n",
       "      <td>Robert Bonnaventure</td>\n",
       "      <td>1</td>\n",
       "      <td>10</td>\n",
       "      <td>0</td>\n",
       "      <td>0</td>\n",
       "    </tr>\n",
       "    <tr>\n",
       "      <th>249998</th>\n",
       "      <td>1945</td>\n",
       "      <td>91</td>\n",
       "      <td>83</td>\n",
       "      <td>14</td>\n",
       "      <td>91</td>\n",
       "      <td>91</td>\n",
       "      <td>90</td>\n",
       "      <td>Napier Shaw</td>\n",
       "      <td>8</td>\n",
       "      <td>77</td>\n",
       "      <td>0</td>\n",
       "      <td>0</td>\n",
       "    </tr>\n",
       "    <tr>\n",
       "      <th>249999</th>\n",
       "      <td>1991</td>\n",
       "      <td>70</td>\n",
       "      <td>71</td>\n",
       "      <td>14</td>\n",
       "      <td>70</td>\n",
       "      <td>68</td>\n",
       "      <td>71</td>\n",
       "      <td>Eric Evans</td>\n",
       "      <td>-1</td>\n",
       "      <td>56</td>\n",
       "      <td>0</td>\n",
       "      <td>2</td>\n",
       "    </tr>\n",
       "  </tbody>\n",
       "</table>\n",
       "<p>110702 rows × 12 columns</p>\n",
       "</div>"
      ],
      "text/plain": [
       "        Death year  Age of death  pred_KNclassifier  pred_gnb  \\\n",
       "1             2001            49                 46        14   \n",
       "2             1865            56                 56        14   \n",
       "6             1976            88                 89        85   \n",
       "7             1926            86                 83        70   \n",
       "10            1977            42                 42        14   \n",
       "...            ...           ...                ...       ...   \n",
       "249988        1986            67                 62        85   \n",
       "249994        1932            76                 73       100   \n",
       "249997        2015            95                 94        85   \n",
       "249998        1945            91                 83        14   \n",
       "249999        1991            70                 71        14   \n",
       "\n",
       "        pred_dtcclassifier  pred_rfclassifier  pred_svcclassifier  \\\n",
       "1                       49                 49                  49   \n",
       "2                       56                 56                  57   \n",
       "6                       88                 88                  87   \n",
       "7                       86                 83                  85   \n",
       "10                      42                 42                  43   \n",
       "...                    ...                ...                 ...   \n",
       "249988                  67                 67                  68   \n",
       "249994                  76                 76                  77   \n",
       "249997                  95                 95                  94   \n",
       "249998                  91                 91                  90   \n",
       "249999                  70                 68                  71   \n",
       "\n",
       "                             Name  KNclassifie_gap  gnb_gap  \\\n",
       "1                   Douglas Adams                3       35   \n",
       "2                 Abraham Lincoln                0       42   \n",
       "6                     Paul Morand               -1        3   \n",
       "7                    Claude Monet                3       16   \n",
       "10                  Elvis Presley                0       28   \n",
       "...                           ...              ...      ...   \n",
       "249988               Jean Tourane                5      -18   \n",
       "249994  Joachim, 5th Prince Murat                3      -24   \n",
       "249997        Robert Bonnaventure                1       10   \n",
       "249998                Napier Shaw                8       77   \n",
       "249999                 Eric Evans               -1       56   \n",
       "\n",
       "        dtcclassifier_gap  rfclassifier_gap  \n",
       "1                       0                 0  \n",
       "2                       0                 0  \n",
       "6                       0                 0  \n",
       "7                       0                 3  \n",
       "10                      0                 0  \n",
       "...                   ...               ...  \n",
       "249988                  0                 0  \n",
       "249994                  0                 0  \n",
       "249997                  0                 0  \n",
       "249998                  0                 0  \n",
       "249999                  0                 2  \n",
       "\n",
       "[110702 rows x 12 columns]"
      ]
     },
     "execution_count": 50,
     "metadata": {},
     "output_type": "execute_result"
    }
   ],
   "source": [
    "df"
   ]
  },
  {
   "cell_type": "code",
   "execution_count": 51,
   "id": "4957a03c",
   "metadata": {},
   "outputs": [
    {
     "name": "stdout",
     "output_type": "stream",
     "text": [
      "+---------------------+---------------------------+\n",
      "| Model_Name          |   Classification Accuracy |\n",
      "+=====================+===========================+\n",
      "| Naive Bayes         |                0.00650383 |\n",
      "+---------------------+---------------------------+\n",
      "| Random Forest Model |                0.623573   |\n",
      "+---------------------+---------------------------+\n",
      "| Decision Tree       |                0.953389   |\n",
      "+---------------------+---------------------------+\n",
      "| KNN                 |                0.265573   |\n",
      "+---------------------+---------------------------+\n",
      "| SVC                 |                0.326384   |\n",
      "+---------------------+---------------------------+\n"
     ]
    }
   ],
   "source": [
    "from tabulate import tabulate\n",
    "\n",
    "data =   [[\"Naive Bayes\", acc_gnb],\n",
    "                [\"Random Forest Model\", acc_rfc], \n",
    "                [\"Decision Tree\", acc_dcc],\n",
    "                [\"KNN\", acc_knc],[\"SVC\", acc_svc]]\n",
    "\n",
    "col_names = [\"Model_Name\", \"Classification Accuracy\"]\n",
    "\n",
    "print(tabulate(data, headers=col_names, tablefmt=\"grid\"))"
   ]
  },
  {
   "cell_type": "code",
   "execution_count": null,
   "id": "ce03097b",
   "metadata": {},
   "outputs": [],
   "source": []
  }
 ],
 "metadata": {
  "kernelspec": {
   "display_name": "Python 3 (ipykernel)",
   "language": "python",
   "name": "python3"
  },
  "language_info": {
   "codemirror_mode": {
    "name": "ipython",
    "version": 3
   },
   "file_extension": ".py",
   "mimetype": "text/x-python",
   "name": "python",
   "nbconvert_exporter": "python",
   "pygments_lexer": "ipython3",
   "version": "3.8.12"
  }
 },
 "nbformat": 4,
 "nbformat_minor": 5
}
