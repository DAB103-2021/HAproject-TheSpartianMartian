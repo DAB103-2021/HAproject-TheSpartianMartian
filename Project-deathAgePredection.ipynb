{
 "cells": [
  {
   "cell_type": "markdown",
   "id": "d191c322",
   "metadata": {},
   "source": [
    "# Import Liberary"
   ]
  },
  {
   "cell_type": "code",
   "execution_count": 2,
   "id": "04bfecfb",
   "metadata": {},
   "outputs": [],
   "source": [
    "import numpy as np\n",
    "import pandas as pd"
   ]
  },
  {
   "cell_type": "markdown",
   "id": "711790dc",
   "metadata": {},
   "source": [
    "# Import Source File"
   ]
  },
  {
   "cell_type": "code",
   "execution_count": 3,
   "id": "b7ab8060",
   "metadata": {},
   "outputs": [],
   "source": [
    "df_file1 = pd.read_csv(\"https://raw.githubusercontent.com/DAB103-2021/TheSpartiansMartians/main/Data/AgeDataset-V1-Part1.csv\")\n",
    "df_file2 = pd.read_csv(\"https://raw.githubusercontent.com/DAB103-2021/TheSpartiansMartians/main/Data/AgeDataset-V1-Part2.csv\")\n",
    "df_file3 = pd.read_csv(\"https://raw.githubusercontent.com/DAB103-2021/TheSpartiansMartians/main/Data/AgeDataset-V1-Part3.csv\")\n",
    "df_file4 = pd.read_csv(\"https://raw.githubusercontent.com/DAB103-2021/TheSpartiansMartians/main/Data/AgeDataset-V1-Part4.csv\")\n",
    "df_file5 = pd.read_csv(\"https://raw.githubusercontent.com/DAB103-2021/TheSpartiansMartians/main/Data/AgeDataset-V1-Part5.csv\")"
   ]
  },
  {
   "cell_type": "code",
   "execution_count": 4,
   "id": "d0502482",
   "metadata": {},
   "outputs": [],
   "source": [
    "df = pd.concat([df_file1, df_file2, df_file3, df_file4,df_file5], ignore_index=True)"
   ]
  },
  {
   "cell_type": "code",
   "execution_count": 5,
   "id": "129552d4",
   "metadata": {},
   "outputs": [],
   "source": [
    "df.to_csv('AgeDataset.csv', index = False)"
   ]
  },
  {
   "cell_type": "markdown",
   "id": "cfd44748",
   "metadata": {},
   "source": [
    "# Data Cleaning"
   ]
  },
  {
   "cell_type": "code",
   "execution_count": 6,
   "id": "3f62a36c",
   "metadata": {},
   "outputs": [],
   "source": [
    "df = df.drop('Id', axis=1)"
   ]
  },
  {
   "cell_type": "code",
   "execution_count": 7,
   "id": "bb73d073",
   "metadata": {},
   "outputs": [
    {
     "name": "stdout",
     "output_type": "stream",
     "text": [
      "<class 'pandas.core.frame.DataFrame'>\n",
      "RangeIndex: 1223009 entries, 0 to 1223008\n",
      "Data columns (total 9 columns):\n",
      " #   Column             Non-Null Count    Dtype  \n",
      "---  ------             --------------    -----  \n",
      " 0   Name               1223009 non-null  object \n",
      " 1   Short description  1155109 non-null  object \n",
      " 2   Gender             1089363 non-null  object \n",
      " 3   Country            887500 non-null   object \n",
      " 4   Occupation         1016095 non-null  object \n",
      " 5   Birth year         1223009 non-null  int64  \n",
      " 6   Death year         1223008 non-null  float64\n",
      " 7   Manner of death    53603 non-null    object \n",
      " 8   Age of death       1223008 non-null  float64\n",
      "dtypes: float64(2), int64(1), object(6)\n",
      "memory usage: 84.0+ MB\n"
     ]
    }
   ],
   "source": [
    "df.info()"
   ]
  },
  {
   "cell_type": "code",
   "execution_count": 8,
   "id": "3bafddea",
   "metadata": {},
   "outputs": [],
   "source": [
    "df['Death year'] = pd.to_numeric(df['Death year'], errors='coerce').fillna(0).astype(int)\n",
    "df['Age of death'] = pd.to_numeric(df['Age of death'], errors='coerce').fillna(0).astype(int)"
   ]
  },
  {
   "cell_type": "code",
   "execution_count": 9,
   "id": "b318ec83",
   "metadata": {},
   "outputs": [
    {
     "data": {
      "text/html": [
       "<div>\n",
       "<style scoped>\n",
       "    .dataframe tbody tr th:only-of-type {\n",
       "        vertical-align: middle;\n",
       "    }\n",
       "\n",
       "    .dataframe tbody tr th {\n",
       "        vertical-align: top;\n",
       "    }\n",
       "\n",
       "    .dataframe thead th {\n",
       "        text-align: right;\n",
       "    }\n",
       "</style>\n",
       "<table border=\"1\" class=\"dataframe\">\n",
       "  <thead>\n",
       "    <tr style=\"text-align: right;\">\n",
       "      <th></th>\n",
       "      <th>Name</th>\n",
       "      <th>Short description</th>\n",
       "      <th>Gender</th>\n",
       "      <th>Country</th>\n",
       "      <th>Occupation</th>\n",
       "      <th>Birth year</th>\n",
       "      <th>Death year</th>\n",
       "      <th>Manner of death</th>\n",
       "      <th>Age of death</th>\n",
       "    </tr>\n",
       "  </thead>\n",
       "  <tbody>\n",
       "    <tr>\n",
       "      <th>count</th>\n",
       "      <td>1223009</td>\n",
       "      <td>1155109</td>\n",
       "      <td>1089363</td>\n",
       "      <td>887500</td>\n",
       "      <td>1016095</td>\n",
       "      <td>1.223009e+06</td>\n",
       "      <td>1.223009e+06</td>\n",
       "      <td>53603</td>\n",
       "      <td>1.223009e+06</td>\n",
       "    </tr>\n",
       "    <tr>\n",
       "      <th>unique</th>\n",
       "      <td>1130871</td>\n",
       "      <td>512439</td>\n",
       "      <td>20</td>\n",
       "      <td>5961</td>\n",
       "      <td>9313</td>\n",
       "      <td>NaN</td>\n",
       "      <td>NaN</td>\n",
       "      <td>206</td>\n",
       "      <td>NaN</td>\n",
       "    </tr>\n",
       "    <tr>\n",
       "      <th>top</th>\n",
       "      <td>John Smith</td>\n",
       "      <td>American politician</td>\n",
       "      <td>Male</td>\n",
       "      <td>United States of America</td>\n",
       "      <td>Artist</td>\n",
       "      <td>NaN</td>\n",
       "      <td>NaN</td>\n",
       "      <td>natural causes</td>\n",
       "      <td>NaN</td>\n",
       "    </tr>\n",
       "    <tr>\n",
       "      <th>freq</th>\n",
       "      <td>93</td>\n",
       "      <td>13500</td>\n",
       "      <td>981365</td>\n",
       "      <td>152761</td>\n",
       "      <td>281512</td>\n",
       "      <td>NaN</td>\n",
       "      <td>NaN</td>\n",
       "      <td>33532</td>\n",
       "      <td>NaN</td>\n",
       "    </tr>\n",
       "    <tr>\n",
       "      <th>mean</th>\n",
       "      <td>NaN</td>\n",
       "      <td>NaN</td>\n",
       "      <td>NaN</td>\n",
       "      <td>NaN</td>\n",
       "      <td>NaN</td>\n",
       "      <td>1.844972e+03</td>\n",
       "      <td>1.914244e+03</td>\n",
       "      <td>NaN</td>\n",
       "      <td>6.927400e+01</td>\n",
       "    </tr>\n",
       "    <tr>\n",
       "      <th>std</th>\n",
       "      <td>NaN</td>\n",
       "      <td>NaN</td>\n",
       "      <td>NaN</td>\n",
       "      <td>NaN</td>\n",
       "      <td>NaN</td>\n",
       "      <td>1.479390e+02</td>\n",
       "      <td>1.516996e+02</td>\n",
       "      <td>NaN</td>\n",
       "      <td>1.662949e+01</td>\n",
       "    </tr>\n",
       "    <tr>\n",
       "      <th>min</th>\n",
       "      <td>NaN</td>\n",
       "      <td>NaN</td>\n",
       "      <td>NaN</td>\n",
       "      <td>NaN</td>\n",
       "      <td>NaN</td>\n",
       "      <td>-2.700000e+03</td>\n",
       "      <td>-2.659000e+03</td>\n",
       "      <td>NaN</td>\n",
       "      <td>0.000000e+00</td>\n",
       "    </tr>\n",
       "    <tr>\n",
       "      <th>25%</th>\n",
       "      <td>NaN</td>\n",
       "      <td>NaN</td>\n",
       "      <td>NaN</td>\n",
       "      <td>NaN</td>\n",
       "      <td>NaN</td>\n",
       "      <td>1.828000e+03</td>\n",
       "      <td>1.895000e+03</td>\n",
       "      <td>NaN</td>\n",
       "      <td>6.000000e+01</td>\n",
       "    </tr>\n",
       "    <tr>\n",
       "      <th>50%</th>\n",
       "      <td>NaN</td>\n",
       "      <td>NaN</td>\n",
       "      <td>NaN</td>\n",
       "      <td>NaN</td>\n",
       "      <td>NaN</td>\n",
       "      <td>1.887000e+03</td>\n",
       "      <td>1.955000e+03</td>\n",
       "      <td>NaN</td>\n",
       "      <td>7.200000e+01</td>\n",
       "    </tr>\n",
       "    <tr>\n",
       "      <th>75%</th>\n",
       "      <td>NaN</td>\n",
       "      <td>NaN</td>\n",
       "      <td>NaN</td>\n",
       "      <td>NaN</td>\n",
       "      <td>NaN</td>\n",
       "      <td>1.918000e+03</td>\n",
       "      <td>1.994000e+03</td>\n",
       "      <td>NaN</td>\n",
       "      <td>8.100000e+01</td>\n",
       "    </tr>\n",
       "    <tr>\n",
       "      <th>max</th>\n",
       "      <td>NaN</td>\n",
       "      <td>NaN</td>\n",
       "      <td>NaN</td>\n",
       "      <td>NaN</td>\n",
       "      <td>NaN</td>\n",
       "      <td>2.016000e+03</td>\n",
       "      <td>2.021000e+03</td>\n",
       "      <td>NaN</td>\n",
       "      <td>1.690000e+02</td>\n",
       "    </tr>\n",
       "  </tbody>\n",
       "</table>\n",
       "</div>"
      ],
      "text/plain": [
       "              Name    Short description   Gender                   Country  \\\n",
       "count      1223009              1155109  1089363                    887500   \n",
       "unique     1130871               512439       20                      5961   \n",
       "top     John Smith  American politician     Male  United States of America   \n",
       "freq            93                13500   981365                    152761   \n",
       "mean           NaN                  NaN      NaN                       NaN   \n",
       "std            NaN                  NaN      NaN                       NaN   \n",
       "min            NaN                  NaN      NaN                       NaN   \n",
       "25%            NaN                  NaN      NaN                       NaN   \n",
       "50%            NaN                  NaN      NaN                       NaN   \n",
       "75%            NaN                  NaN      NaN                       NaN   \n",
       "max            NaN                  NaN      NaN                       NaN   \n",
       "\n",
       "       Occupation    Birth year    Death year Manner of death  Age of death  \n",
       "count     1016095  1.223009e+06  1.223009e+06           53603  1.223009e+06  \n",
       "unique       9313           NaN           NaN             206           NaN  \n",
       "top        Artist           NaN           NaN  natural causes           NaN  \n",
       "freq       281512           NaN           NaN           33532           NaN  \n",
       "mean          NaN  1.844972e+03  1.914244e+03             NaN  6.927400e+01  \n",
       "std           NaN  1.479390e+02  1.516996e+02             NaN  1.662949e+01  \n",
       "min           NaN -2.700000e+03 -2.659000e+03             NaN  0.000000e+00  \n",
       "25%           NaN  1.828000e+03  1.895000e+03             NaN  6.000000e+01  \n",
       "50%           NaN  1.887000e+03  1.955000e+03             NaN  7.200000e+01  \n",
       "75%           NaN  1.918000e+03  1.994000e+03             NaN  8.100000e+01  \n",
       "max           NaN  2.016000e+03  2.021000e+03             NaN  1.690000e+02  "
      ]
     },
     "execution_count": 9,
     "metadata": {},
     "output_type": "execute_result"
    }
   ],
   "source": [
    "df.describe(include='all')"
   ]
  },
  {
   "cell_type": "code",
   "execution_count": 10,
   "id": "7cb0ff6e",
   "metadata": {},
   "outputs": [
    {
     "data": {
      "text/plain": [
       "Name                 False\n",
       "Short description     True\n",
       "Gender                True\n",
       "Country               True\n",
       "Occupation            True\n",
       "Birth year           False\n",
       "Death year           False\n",
       "Manner of death       True\n",
       "Age of death         False\n",
       "dtype: bool"
      ]
     },
     "execution_count": 10,
     "metadata": {},
     "output_type": "execute_result"
    }
   ],
   "source": [
    "df.isna().any() "
   ]
  },
  {
   "cell_type": "code",
   "execution_count": 11,
   "id": "4af33929",
   "metadata": {},
   "outputs": [
    {
     "data": {
      "text/plain": [
       "array(['Male', 'Female', nan, 'Transgender Female', 'Intersex',\n",
       "       'Transgender Person; Intersex; Transgender Male', 'Non-Binary',\n",
       "       'Eunuch; Male', 'Transgender Male', 'Eunuch', 'Intersex; Male',\n",
       "       'Transgender Female; Female', 'Transgender Female; Male',\n",
       "       'Female; Male', 'Intersex; Transgender Male',\n",
       "       'Transgender Male; Female', 'Transgender Male; Male',\n",
       "       'Intersex; Female', 'Transgender Female; Intersex',\n",
       "       'Female; Female', 'Non-Binary; Intersex'], dtype=object)"
      ]
     },
     "execution_count": 11,
     "metadata": {},
     "output_type": "execute_result"
    }
   ],
   "source": [
    "df['Gender'].unique()"
   ]
  },
  {
   "cell_type": "code",
   "execution_count": 12,
   "id": "eaac8bf2",
   "metadata": {},
   "outputs": [
    {
     "data": {
      "text/html": [
       "<div>\n",
       "<style scoped>\n",
       "    .dataframe tbody tr th:only-of-type {\n",
       "        vertical-align: middle;\n",
       "    }\n",
       "\n",
       "    .dataframe tbody tr th {\n",
       "        vertical-align: top;\n",
       "    }\n",
       "\n",
       "    .dataframe thead th {\n",
       "        text-align: right;\n",
       "    }\n",
       "</style>\n",
       "<table border=\"1\" class=\"dataframe\">\n",
       "  <thead>\n",
       "    <tr style=\"text-align: right;\">\n",
       "      <th></th>\n",
       "      <th>Gender</th>\n",
       "      <th>count</th>\n",
       "    </tr>\n",
       "  </thead>\n",
       "  <tbody>\n",
       "    <tr>\n",
       "      <th>9</th>\n",
       "      <td>Male</td>\n",
       "      <td>981365</td>\n",
       "    </tr>\n",
       "    <tr>\n",
       "      <th>2</th>\n",
       "      <td>Female</td>\n",
       "      <td>107830</td>\n",
       "    </tr>\n",
       "    <tr>\n",
       "      <th>12</th>\n",
       "      <td>Transgender Female</td>\n",
       "      <td>79</td>\n",
       "    </tr>\n",
       "    <tr>\n",
       "      <th>16</th>\n",
       "      <td>Transgender Male</td>\n",
       "      <td>36</td>\n",
       "    </tr>\n",
       "    <tr>\n",
       "      <th>1</th>\n",
       "      <td>Eunuch; Male</td>\n",
       "      <td>18</td>\n",
       "    </tr>\n",
       "    <tr>\n",
       "      <th>4</th>\n",
       "      <td>Female; Male</td>\n",
       "      <td>7</td>\n",
       "    </tr>\n",
       "    <tr>\n",
       "      <th>5</th>\n",
       "      <td>Intersex</td>\n",
       "      <td>7</td>\n",
       "    </tr>\n",
       "    <tr>\n",
       "      <th>0</th>\n",
       "      <td>Eunuch</td>\n",
       "      <td>3</td>\n",
       "    </tr>\n",
       "    <tr>\n",
       "      <th>17</th>\n",
       "      <td>Transgender Male; Female</td>\n",
       "      <td>3</td>\n",
       "    </tr>\n",
       "    <tr>\n",
       "      <th>15</th>\n",
       "      <td>Transgender Female; Male</td>\n",
       "      <td>2</td>\n",
       "    </tr>\n",
       "    <tr>\n",
       "      <th>10</th>\n",
       "      <td>Non-Binary</td>\n",
       "      <td>2</td>\n",
       "    </tr>\n",
       "    <tr>\n",
       "      <th>7</th>\n",
       "      <td>Intersex; Male</td>\n",
       "      <td>2</td>\n",
       "    </tr>\n",
       "    <tr>\n",
       "      <th>6</th>\n",
       "      <td>Intersex; Female</td>\n",
       "      <td>2</td>\n",
       "    </tr>\n",
       "    <tr>\n",
       "      <th>11</th>\n",
       "      <td>Non-Binary; Intersex</td>\n",
       "      <td>1</td>\n",
       "    </tr>\n",
       "    <tr>\n",
       "      <th>8</th>\n",
       "      <td>Intersex; Transgender Male</td>\n",
       "      <td>1</td>\n",
       "    </tr>\n",
       "    <tr>\n",
       "      <th>13</th>\n",
       "      <td>Transgender Female; Female</td>\n",
       "      <td>1</td>\n",
       "    </tr>\n",
       "    <tr>\n",
       "      <th>14</th>\n",
       "      <td>Transgender Female; Intersex</td>\n",
       "      <td>1</td>\n",
       "    </tr>\n",
       "    <tr>\n",
       "      <th>3</th>\n",
       "      <td>Female; Female</td>\n",
       "      <td>1</td>\n",
       "    </tr>\n",
       "    <tr>\n",
       "      <th>18</th>\n",
       "      <td>Transgender Male; Male</td>\n",
       "      <td>1</td>\n",
       "    </tr>\n",
       "    <tr>\n",
       "      <th>19</th>\n",
       "      <td>Transgender Person; Intersex; Transgender Male</td>\n",
       "      <td>1</td>\n",
       "    </tr>\n",
       "  </tbody>\n",
       "</table>\n",
       "</div>"
      ],
      "text/plain": [
       "                                            Gender   count\n",
       "9                                             Male  981365\n",
       "2                                           Female  107830\n",
       "12                              Transgender Female      79\n",
       "16                                Transgender Male      36\n",
       "1                                     Eunuch; Male      18\n",
       "4                                     Female; Male       7\n",
       "5                                         Intersex       7\n",
       "0                                           Eunuch       3\n",
       "17                        Transgender Male; Female       3\n",
       "15                        Transgender Female; Male       2\n",
       "10                                      Non-Binary       2\n",
       "7                                   Intersex; Male       2\n",
       "6                                 Intersex; Female       2\n",
       "11                            Non-Binary; Intersex       1\n",
       "8                       Intersex; Transgender Male       1\n",
       "13                      Transgender Female; Female       1\n",
       "14                    Transgender Female; Intersex       1\n",
       "3                                   Female; Female       1\n",
       "18                          Transgender Male; Male       1\n",
       "19  Transgender Person; Intersex; Transgender Male       1"
      ]
     },
     "execution_count": 12,
     "metadata": {},
     "output_type": "execute_result"
    }
   ],
   "source": [
    "df_top_genders = df.groupby(['Gender'])['Gender'].count().reset_index(name='count').sort_values(['count'], ascending=False).head(20)\n",
    "df_top_genders"
   ]
  },
  {
   "cell_type": "code",
   "execution_count": 13,
   "id": "ddc66024",
   "metadata": {},
   "outputs": [],
   "source": [
    "Genders=['Male', 'Female']\n",
    "df = df[df.Gender.isin(Genders)]"
   ]
  },
  {
   "cell_type": "code",
   "execution_count": 14,
   "id": "47b5f559",
   "metadata": {},
   "outputs": [
    {
     "data": {
      "text/plain": [
       "array(['Male', 'Female'], dtype=object)"
      ]
     },
     "execution_count": 14,
     "metadata": {},
     "output_type": "execute_result"
    }
   ],
   "source": [
    "df['Gender'].unique()"
   ]
  },
  {
   "cell_type": "code",
   "execution_count": 15,
   "id": "cd76c620",
   "metadata": {},
   "outputs": [
    {
     "data": {
      "text/html": [
       "<div>\n",
       "<style scoped>\n",
       "    .dataframe tbody tr th:only-of-type {\n",
       "        vertical-align: middle;\n",
       "    }\n",
       "\n",
       "    .dataframe tbody tr th {\n",
       "        vertical-align: top;\n",
       "    }\n",
       "\n",
       "    .dataframe thead th {\n",
       "        text-align: right;\n",
       "    }\n",
       "</style>\n",
       "<table border=\"1\" class=\"dataframe\">\n",
       "  <thead>\n",
       "    <tr style=\"text-align: right;\">\n",
       "      <th></th>\n",
       "      <th>Country</th>\n",
       "      <th>count</th>\n",
       "    </tr>\n",
       "  </thead>\n",
       "  <tbody>\n",
       "    <tr>\n",
       "      <th>5088</th>\n",
       "      <td>United States of America</td>\n",
       "      <td>149667</td>\n",
       "    </tr>\n",
       "    <tr>\n",
       "      <th>1672</th>\n",
       "      <td>Germany</td>\n",
       "      <td>88164</td>\n",
       "    </tr>\n",
       "    <tr>\n",
       "      <th>1359</th>\n",
       "      <td>France</td>\n",
       "      <td>69705</td>\n",
       "    </tr>\n",
       "    <tr>\n",
       "      <th>5069</th>\n",
       "      <td>United Kingdom; United Kingdom of Great Britai...</td>\n",
       "      <td>29208</td>\n",
       "    </tr>\n",
       "    <tr>\n",
       "      <th>4411</th>\n",
       "      <td>Spain</td>\n",
       "      <td>23038</td>\n",
       "    </tr>\n",
       "  </tbody>\n",
       "</table>\n",
       "</div>"
      ],
      "text/plain": [
       "                                                Country   count\n",
       "5088                           United States of America  149667\n",
       "1672                                            Germany   88164\n",
       "1359                                             France   69705\n",
       "5069  United Kingdom; United Kingdom of Great Britai...   29208\n",
       "4411                                              Spain   23038"
      ]
     },
     "execution_count": 15,
     "metadata": {},
     "output_type": "execute_result"
    }
   ],
   "source": [
    "df_top_countries = df.groupby(['Country'])['Gender'].count().reset_index(name='count').sort_values(['count'], ascending=False).head(5)\n",
    "df_top_countries"
   ]
  },
  {
   "cell_type": "code",
   "execution_count": 16,
   "id": "3ea80b11",
   "metadata": {},
   "outputs": [],
   "source": [
    "df = df[df.Country.isin(df_top_countries['Country'])]"
   ]
  },
  {
   "cell_type": "code",
   "execution_count": 27,
   "id": "4dab7ce2",
   "metadata": {},
   "outputs": [
    {
     "data": {
      "text/plain": [
       "<AxesSubplot:>"
      ]
     },
     "execution_count": 27,
     "metadata": {},
     "output_type": "execute_result"
    },
    {
     "data": {
      "image/png": "[encoded data removed]",
      "text/plain": [
       "<Figure size 360x360 with 1 Axes>"
      ]
     },
     "metadata": {
      "needs_background": "light"
     },
     "output_type": "display_data"
    }
   ],
   "source": [
    "df_Years = pd.DataFrame(data = df, columns = ['Birth year','Death year'])\n",
    "df_Years.boxplot(showfliers=False,grid=True,figsize=(5, 5))"
   ]
  },
  {
   "cell_type": "code",
   "execution_count": 30,
   "id": "b5501b6f",
   "metadata": {},
   "outputs": [],
   "source": [
    "df = df[df['Birth year'] >= 1800]"
   ]
  },
  {
   "cell_type": "code",
   "execution_count": 29,
   "id": "1bf03f08",
   "metadata": {},
   "outputs": [],
   "source": [
    "df.to_csv('AgeDataset-cleaned.csv', index = False)"
   ]
  },
  {
   "cell_type": "code",
   "execution_count": null,
   "id": "55ec2e33",
   "metadata": {},
   "outputs": [],
   "source": []
  },
  {
   "cell_type": "code",
   "execution_count": null,
   "id": "3ada4b6e",
   "metadata": {},
   "outputs": [],
   "source": []
  }
 ],
 "metadata": {
  "kernelspec": {
   "display_name": "Python 3",
   "language": "python",
   "name": "python3"
  },
  "language_info": {
   "codemirror_mode": {
    "name": "ipython",
    "version": 3
   },
   "file_extension": ".py",
   "mimetype": "text/x-python",
   "name": "python",
   "nbconvert_exporter": "python",
   "pygments_lexer": "ipython3",
   "version": "3.8.8"
  }
 },
 "nbformat": 4,
 "nbformat_minor": 5
}
